{
 "cells": [
  {
   "cell_type": "markdown",
   "metadata": {},
   "source": [
    "# Windows 10 Coin\n",
    "\n",
    "train:  (row: 1,347,190, columns: 1,085)\n",
    "test:   (row:   374,136, columns: 1,084)\n",
    "\n",
    "y value: if HasClicked == True, app 1.8%\n",
    "\n",
    "How to run\n",
    "1. Put the train and test files in ..\\input\n",
    "2. Put the script file in ..\\script\n",
    "3. In Jupyter Notebook, run all and get submission file in the same script folder"
   ]
  },
  {
   "cell_type": "code",
   "execution_count": 66,
   "metadata": {
    "collapsed": false
   },
   "outputs": [],
   "source": [
    "# Timer and file info\n",
    "import math\n",
    "import time\n",
    "import numpy as np # linear algebra\n",
    "import pandas as pd # data processing, CSV file I/O (e.g. pd.read_csv)\n",
    "import os\n",
    "import gc # We're gonna be clearing memory a lot\n",
    "import matplotlib.pyplot as plt\n",
    "import seaborn as sns\n",
    "import random\n",
    "import lightgbm as lgb\n",
    "#from ml_metrics import mapk\n",
    "import hashlib\n",
    "from datetime import datetime\n",
    "import re\n",
    "import csv\n",
    "import pickle\n",
    "from sklearn.tree import DecisionTreeClassifier\n",
    "from sklearn.ensemble import ExtraTreesClassifier\n",
    "from sklearn.ensemble import RandomForestClassifier\n",
    "from sklearn import ensemble\n",
    "from sklearn import model_selection\n",
    "from sklearn.metrics import matthews_corrcoef, f1_score, classification_report, confusion_matrix, precision_score, recall_score\n",
    "%matplotlib inline\n",
    "\n",
    "# Timer\n",
    "class Timer:\n",
    "    def __init__(self, text=None):\n",
    "        self.text = text\n",
    "        \n",
    "    def __enter__(self):\n",
    "        self.cpu = time.clock()\n",
    "        self.time = time.time()\n",
    "        if self.text:\n",
    "            print(\"{}...\".format(self.text))\n",
    "            print(datetime.now())\n",
    "        return self\n",
    "\n",
    "    def __exit__(self, *args):\n",
    "        self.cpu = time.clock() - self.cpu\n",
    "        self.time = time.time() - self.time\n",
    "        if self.text:\n",
    "            print(\"%s: cpu %0.2f, time %0.2f\\n\" % (self.text, self.cpu, self.time))\n",
    "\n",
    "# Split to train and holdout sets with counts\n",
    "def sample_train_holdout(_df, sample_count, holdout_count):   \n",
    "    random.seed(7)\n",
    "    sample_RowNumber = random.sample(list(_df['RowNumber']), (sample_count + holdout_count))\n",
    "    train_RowNumber = random.sample(sample_RowNumber, sample_count)\n",
    "    holdout_RowNumber = list(set(sample_RowNumber) - set(train_RowNumber))\n",
    "    holdout = _df[_df['RowNumber'].isin(holdout_RowNumber)].copy()\n",
    "    _df = _df[_df['RowNumber'].isin(train_RowNumber)]\n",
    "    return _df, holdout \n",
    "\n",
    "# Sampling for train and holdout with imbalanced binary label\n",
    "def trainHoldoutSampling(_df, _id, _label, _seed=7, t_tr=0.5, t_ho=0.5, f_tr=0.05, f_ho=0.5):\n",
    "    random.seed(_seed)\n",
    "    \n",
    "    positive_id = list(_df[_df[_label]==True][_id].values)\n",
    "    negative_id = list(_df[_df[_label]==False][_id].values)\n",
    "    \n",
    "    train_positive_id = random.sample(positive_id, int(len(positive_id) * t_tr))\n",
    "    holdout_positive_id = random.sample(list(set(positive_id)-set(train_positive_id)), int(len(positive_id) * t_ho)) \n",
    "    train_negative_id = random.sample(negative_id, int(len(negative_id) * f_tr))\n",
    "    holdout_negative_id = random.sample(list(set(negative_id)-set(train_negative_id)), int(len(negative_id) * f_ho))\n",
    "    \n",
    "    train_id = list(set(train_positive_id)|set(train_negative_id))\n",
    "    holdout_id = list(set(holdout_positive_id)|set(holdout_negative_id))\n",
    "    \n",
    "    print('train count: {}, train positive count: {}'.format(len(train_id),len(train_positive_id)))\n",
    "    print('holdout count: {}, holdout positive count: {}'.format(len(holdout_id),len(holdout_positive_id)))\n",
    "    \n",
    "    return _df[_df[_id].isin(train_id)], _df[_df[_id].isin(holdout_id)]\n",
    "\n",
    "def datetime_features2(_df, _col):\n",
    "    _format='%m/%d/%Y %I:%M:%S %p'\n",
    "    _df[_col] = _df[_col].apply(lambda x: datetime.strptime(x, _format))\n",
    "    \n",
    "    colYear = _col+'Year'\n",
    "    colMonth = _col+'Month'\n",
    "    colDay = _col+'Day'\n",
    "    colHour = _col+'Hour'\n",
    "    #colYearMonthDay = _col+'YearMonthDay'\n",
    "    #colYearMonthDayHour = _col+'YearMonthDayHour' \n",
    "    \n",
    "    _df[colYear] = _df[_col].apply(lambda x: x.year)\n",
    "    _df[colMonth] = _df[_col].apply(lambda x: x.month)\n",
    "    _df[colDay] = _df[_col].apply(lambda x: x.day)\n",
    "    _df[colHour] = _df[_col].apply(lambda x: x.hour)\n",
    "    \n",
    "    #ymd = [colYear, colMonth, colDay]\n",
    "    #ymdh = [colYear, colMonth, colDay, colHour]\n",
    "    \n",
    "    #_df[colYearMonthDay] = _df[ymd].apply(lambda x: '_'.join(str(x)), axis=1)\n",
    "    #_df[colYearMonthDayHour] = _df[ymdh].apply(lambda x: '_'.join(str(x)), axis=1)\n",
    "\n",
    "    return _df\n",
    "    \n",
    "# Change date column datetime type and add date time features\n",
    "def datetime_features(_df, _col, isDelete = False):\n",
    "    # 1. For years greater than 2017, create year folder with regex and change year to 2017 in datetime column\n",
    "    # find and return 4 digit number (1st finding) in dataframe string columns\n",
    "    year_col = _col + 'Year'\n",
    "    _df[year_col] = _df[_col].apply(lambda x: int(re.findall(r\"\\D(\\d{4})\\D\", \" \"+ str(x) +\" \")[0]))\n",
    "    years = sorted(list(_df[year_col].unique()))\n",
    "    yearsGreaterThan2017 = sorted(i for i in years if i > 2017)\n",
    "\n",
    "    # Two ways for strange year data (1) change it to 2017 temporarily (2) remove from data; we will go with (1)\n",
    "    # because we cannot remove test rows anyway\n",
    "    if isDelete:\n",
    "        _df = _df[~_df[year_col].isin(yearsGreaterThan2017)]\n",
    "    else:\n",
    "        for i in yearsGreaterThan2017:\n",
    "            print(\"replace \", i, \" to 2017 for conversion\")\n",
    "            _df.loc[_df[year_col] == i, _col] = _df[_df[year_col] == i][_col].values[0].replace(str(i), \"2017\")\n",
    "    \n",
    "    # How to remove strange year rows\n",
    "    # train = train[~train['year'].isin(yearsGreaterThan2017)]\n",
    "\n",
    "    # 2. Convert string to datetime\n",
    "    _df[_col] = pd.to_datetime(_df[_col])\n",
    "    print(_col, \"column conversion to datetime type is done\")\n",
    "    \n",
    "    # 3. Add more date time features\n",
    "    month_col = _col + 'Month'\n",
    "    week_col = _col + 'Week'\n",
    "    weekday_col = _col + 'Weekday'\n",
    "    day_col = _col + 'Day'\n",
    "    hour_col = _col + 'Hour'\n",
    "    #year_month_day_col = _col + 'YearMonthDay'\n",
    "    #year_month_day_hour_col = _col + 'YearMonthDayHour'\n",
    "    \n",
    "    _df[month_col] = pd.DatetimeIndex(_df[_col]).month\n",
    "    _df[week_col] = pd.DatetimeIndex(_df[_col]).week\n",
    "    _df[weekday_col] = pd.DatetimeIndex(_df[_col]).weekday\n",
    "    _df[day_col] = pd.DatetimeIndex(_df[_col]).day\n",
    "    _df[hour_col] = pd.DatetimeIndex(_df[_col]).hour\n",
    "    #_df[year_month_day_col] = _df[[year_col, month_col, day_col]].apply(lambda x: ''.join(str(x)), axis=1)\n",
    "    #_df[year_month_day_hour_col] = _df[[year_col, month_col, day_col, hour_col]].apply(lambda x: ''.join(str(x)), axis=1)\n",
    "    print(\"year, month, week, weekday, day, hour features are added\")\n",
    "    \n",
    "    return _df\n",
    "\n",
    "# Delete rows with list condition for dataframe\n",
    "def delRows(_df, _col, _list):\n",
    "    _df = _df[~_df[_col].isin(_list)]\n",
    "    return _df\n",
    "\n",
    "import re\n",
    "\n",
    "# Create new column using regex pattern for strings for dataframe\n",
    "def addFeatureRegex(_df, _col, _newCol):\n",
    "    _df[_newCol] = _df[_col].apply(lambda x: int(re.findall(r\"\\D(\\d{4})\\D\", \" \"+ str(x) +\" \")[0]))\n",
    "    return _df\n",
    "\n",
    "# Convert string to datetime type\n",
    "def stringToDatetime(_df, _col):\n",
    "    _df[_col] = _df[_col].astype('datetime64[ns]')\n",
    "    return _df\n",
    "\n",
    "# Add features from datetime\n",
    "def addDatetimeFeatures(_df, _col):\n",
    "    _df[_col + 'Year'] = pd.DatetimeIndex(_df[_col]).year\n",
    "    _df[_col + 'Month'] = pd.DatetimeIndex(_df[_col]).month\n",
    "    _df[_col + 'Week'] = pd.DatetimeIndex(_df[_col]).week\n",
    "    _df[_col + 'Weekday'] = pd.DatetimeIndex(_df[_col]).weekday\n",
    "    _df[_col + 'Day'] = pd.DatetimeIndex(_df[_col]).day\n",
    "    _df[_col + 'Hour'] = pd.DatetimeIndex(_df[_col]).hour\n",
    "    return _df\n",
    "\n",
    "# Get categorical column names\n",
    "def categoricalColumns(_df):\n",
    "    cat_columns = _df.select_dtypes(['object']).columns\n",
    "    print(\"Categorical column count:\", len(cat_columns))\n",
    "    print(\"First 5 values:\", cat_columns[:5])\n",
    "    return cat_columns\n",
    "\n",
    "# Get column names starting with\n",
    "def columnsStartingWith(_df, _str):\n",
    "    sorted_list = sorted(i for i in list(_df) if i.startswith(_str))\n",
    "    print(\"Column count:\", len(sorted_list))\n",
    "    print(\"First 5 values:\", sorted_list[:5])    \n",
    "    return sorted_list\n",
    "\n",
    "# Get column names ending with\n",
    "def columnsEndingWith(_df, _str):\n",
    "    sorted_list = sorted(i for i in list(_df) if i.endswith(_str))\n",
    "    print(\"Column count:\", len(sorted_list))\n",
    "    print(\"First 5 values:\", sorted_list[:5])    \n",
    "    return sorted_list\n",
    "\n",
    "# Get constant columns\n",
    "def constantColumns(_df):\n",
    "    constant_list = []\n",
    "    cols = list(_df) # same as _df.columns.values\n",
    "    for col in cols:\n",
    "        if len(_df[col].unique()) == 1:\n",
    "            constant_list.append(col)\n",
    "    print(\"Constant column count:\", len(constant_list))\n",
    "    print(\"First 5 values:\", constant_list[:5])  \n",
    "    return constant_list\n",
    "\n",
    "# Add null columns\n",
    "def makeNullColumns(_df, _cols):\n",
    "    null_df = _df[_cols].isnull()\n",
    "    null_df.columns = null_df.columns + 'Null'\n",
    "    _df = pd.concat([_df, null_df], axis=1)\n",
    "    return _df\n",
    "\n",
    "# Union\n",
    "def union(a, b):\n",
    "    return list(set(a)|set(b))\n",
    "\n",
    "def unique(a):\n",
    "    return list(set(a))\n",
    "\n",
    "# undersampling - sample rate 0.8 for 80% samling using isUndersampled column \n",
    "def underSampling(_df, _sample_rate):\n",
    "    _df['isUnderSampled'] = 1\n",
    "    _rand_num = 1/(1-_sample_rate)\n",
    "    underSample = np.random.randint(_rand_num, size=len(_df[_df['HasClicked'] == 0]))\n",
    "    _df.loc[_df['HasClicked'] == 0, 'isUnderSampled'] = underSample>0\n",
    "    return _df\n",
    "\n",
    "# Add column with value count\n",
    "def valueCountColumn(_df, _col):\n",
    "    _dict = dict([(i, a) for i, a in zip(_df[_col].value_counts().index, _df[_col].value_counts().values)])\n",
    "    _df[_col+'ValueCount'] = _df[_col].apply(lambda x: _dict[x])\n",
    "    return _df\n",
    "\n",
    "# Add column with bool values to check if keyword is contained or not\n",
    "def containColumn(_df, _col, _str):\n",
    "    _df[_col+'Cotains'+_str] = _df[_col].str.contains(_str)\n",
    "    return _df\n",
    "\n",
    "# Feature engineering\n",
    "def feature_engineering(_df):\n",
    "    print(\"shape:\", _df.shape)\n",
    "    print(\"Add datetime features...\")\n",
    "    datetime_columns = ['BubbleShownTime', 'FirstUpdatedDate', 'OSOOBEDateTime']\n",
    "    for col in datetime_columns:\n",
    "        print(col)\n",
    "        if _df[col].isnull().sum() > 0:\n",
    "            _df[col] = _df[col].fillna('1/1/2017 11:11:11 AM')\n",
    "        _df = datetime_features2(_df, col)\n",
    "\n",
    "    print(\"shape:\", _df.shape)\n",
    "\n",
    "    gc.collect()\n",
    "    \n",
    "    # Null count\n",
    "    print(\"Missing value count...\")\n",
    "    _df['CntNs'] = _df.isnull().sum(axis=1) \n",
    "\n",
    "    cols = ['AppCategoryNMinus1', 'AppCategoryNMinus2', 'AppCategoryNMinus3', 'AppCategoryNMinus4', 'AppCategoryNMinus5',\n",
    "           'AppCategoryNMinus6', 'AppCategoryNMinus7', 'AppCategoryNMinus8']\n",
    "    _df['AppCatCntNs'] = _df[cols].isnull().sum(axis=1)\n",
    "\n",
    "    #_df[cols] = _df[cols].fillna(\"NA\")\n",
    "    #for col in cols:\n",
    "    #    print(col)\n",
    "    #    _df[col+'HighLevel'] = _df[col].apply(lambda x: str(x).split(':')[0])\n",
    "   \n",
    "    # Game segment parse with '.'\n",
    "    # to-do: 2nd and 3rd parsed values to add as features later, some exception handling is needed\n",
    "    print(\"Gamer segment parsing...\")\n",
    "    _df['GamerSegment1'] = _df['GamerSegment'].apply(lambda x: str(x).split('.')[0] if str(x).split('.') else 'Unknown')\n",
    "    \n",
    "    # Check creativeName contains keyword or not - Week 7 is removed because space is not addressed in lightgbm v2 model\n",
    "    keywords = ['SL', 'TS', 'Week7', 'Meet', 'Skype', 'Battery', 'Switch', 'Performance', 'Security', 'Surge']\n",
    "    for keyword in keywords:\n",
    "        _df = containColumn(_df, 'creativeName', keyword)\n",
    "    #_df['week7'] = _df['Week7'].values + _df['Week 7'].values\n",
    "    #_df.drop(['Week7', 'Week 7'], axis = 1, inplace = True)\n",
    "    \n",
    "    # Convert categorical columns to numeric\n",
    "    print(\"Convert categorical columns to numeric...\")\n",
    "    cat_columns = _df.select_dtypes(['object']).columns\n",
    "    for cat_column in cat_columns:\n",
    "        print(cat_column)\n",
    "        if cat_column == 'creativeName':\n",
    "            _df['creativeNameTest'] = _df['creativeName'].values\n",
    "        #_df[cat_column] = _df[cat_column].apply(lambda x: abs(hash(x)) )\n",
    "        _df[cat_column] = _df[cat_column].apply(lambda x: int(hashlib.sha1(str(x).encode('utf-8')).hexdigest(), 16) % (10 ** 16) )\n",
    "    gc.collect()\n",
    "    \n",
    "    # Replace missing values with -1\n",
    "    print(\"Replace missing values with -1\")\n",
    "    _df = _df.fillna(-1)\n",
    "    \n",
    "    # Value count\n",
    "    print(\"Value count...\")\n",
    "    cols = ['UniqueUserDeviceKey', 'CampaignId']\n",
    "    for col in cols:\n",
    "        print(col)\n",
    "        _df = valueCountColumn(_df, col)\n",
    "        \n",
    "    return _df\n",
    "\n",
    "# Get best threshold value for F1 score\n",
    "def f1_best_threshold(_actual, _pred):\n",
    "    thresholds = np.linspace(0.01, 0.5, 1000)\n",
    "\n",
    "    fc = np.array([f1_score(_actual, _pred>thr) for thr in thresholds])\n",
    "    plt.plot(thresholds, fc)\n",
    "    best_threshold = thresholds[fc.argmax()]\n",
    "    print('f1 score:', fc.max())\n",
    "    print('best threshold:', best_threshold)\n",
    "    print('TF pred mean:', (_pred>best_threshold).mean())\n",
    "    \n",
    "    return best_threshold"
   ]
  },
  {
   "cell_type": "code",
   "execution_count": 67,
   "metadata": {
    "collapsed": false
   },
   "outputs": [
    {
     "name": "stdout",
     "output_type": "stream",
     "text": [
      "Read train data......\n",
      "2017-04-07 05:56:46.235156\n"
     ]
    },
    {
     "name": "stderr",
     "output_type": "stream",
     "text": [
      "C:\\Users\\ryutek\\Anaconda3\\lib\\site-packages\\IPython\\core\\interactiveshell.py:2717: DtypeWarning: Columns (2,8,17,33) have mixed types. Specify dtype option on import or set low_memory=False.\n",
      "  interactivity=interactivity, compiler=compiler, result=result)\n"
     ]
    },
    {
     "name": "stdout",
     "output_type": "stream",
     "text": [
      "(1347190, 1085)\n",
      "Read train data...: cpu 209.50, time 209.52\n",
      "\n"
     ]
    }
   ],
   "source": [
    "with Timer(\"Read train data...\"):\n",
    "    train = pd.read_csv('CoinMlCompetitionSoftlandingTrainWithHeader.tsv', sep='\\t') # (1347190, 1085)\n",
    "    print(train.shape)\n",
    "    \n",
    "    test_header = train.columns[0:1084]"
   ]
  },
  {
   "cell_type": "code",
   "execution_count": 68,
   "metadata": {
    "collapsed": true
   },
   "outputs": [],
   "source": [
    "df_header = pd.DataFrame(test_header)\n",
    "df_header.to_csv('test_header.csv', index = False)"
   ]
  },
  {
   "cell_type": "code",
   "execution_count": 69,
   "metadata": {
    "collapsed": false
   },
   "outputs": [
    {
     "name": "stdout",
     "output_type": "stream",
     "text": [
      "Decide feature columns......\n",
      "2017-04-07 06:00:15.816642\n",
      "features without time_ and days_ columns\n",
      "Column count: 517\n",
      "First 5 values: ['Time_0c72c7cd_217379cb4ae6f', 'Time_0c72c7cd_beta', 'Time_123freesolitaire_exe', 'Time_1cv8_exe', 'Time_2345explorer_exe']\n",
      "Column count: 517\n",
      "First 5 values: ['Days_0c72c7cd_217379cb4ae6f', 'Days_0c72c7cd_beta', 'Days_123freesolitaire_exe', 'Days_1cv8_exe', 'Days_2345explorer_exe']\n",
      "(1347190, 72)\n",
      "Decide feature columns...: cpu 0.68, time 0.67\n",
      "\n"
     ]
    }
   ],
   "source": [
    "with Timer(\"Decide feature columns...\"):\n",
    "    # Reduce size by removing most of days and time features\n",
    "    features = train.columns\n",
    "    \n",
    "    print(\"features without time_ and days_ columns\")\n",
    "    time_columns = columnsStartingWith(train, 'Time_')\n",
    "    days_columns = columnsStartingWith(train, 'Days_')\n",
    "    features = list(set(features) - set(time_columns))\n",
    "    features = list(set(features) - set(days_columns))\n",
    "    \n",
    "    # Add important time features from feature importance and some validation\n",
    "    imp_time_features = ['Time_Accessibility', 'Time_Browser', 'Time_Communications', 'Time_Content', 'Time_DevTools', \n",
    "                     'Time_Games', 'Time_Malware', 'Time_Media', 'Time_PersonalProductivity', 'Time_Readers', \n",
    "                     'Time_Search', 'Time_Social', 'Time_StudentAndLearning', 'Time_ModernApps', \n",
    "                     'Time_Games_Core', 'Time_Games_Casual', 'Time_windows_immersivecontrolpanel',\n",
    "                     'Time_msascui_exe', 'Time_chrome_exe', 'Time_microsoft_windows_cortana', 'Time_lockapphost_exe']\n",
    "    features = list(set(features) | set(imp_time_features))\n",
    "    \n",
    "    train = train[features]\n",
    "    print(train.shape)\n",
    "    \n",
    "    df_features = pd.DataFrame(features)\n",
    "    df_features.to_csv('initial_features.csv', index = False)\n",
    "    \n",
    "    #with open('feature_list', 'wb') as fp:\n",
    "    #    pickle.dump(features, fp)"
   ]
  },
  {
   "cell_type": "code",
   "execution_count": 70,
   "metadata": {
    "collapsed": false
   },
   "outputs": [
    {
     "name": "stdout",
     "output_type": "stream",
     "text": [
      "Train feature engineering......\n",
      "2017-04-07 06:00:16.504007\n",
      "shape: (1347190, 72)\n",
      "Add datetime features...\n",
      "BubbleShownTime\n",
      "FirstUpdatedDate\n",
      "OSOOBEDateTime\n",
      "shape: (1347190, 84)\n",
      "Missing value count...\n",
      "Gamer segment parsing...\n",
      "Convert categorical columns to numeric...\n",
      "GamerSegment\n",
      "BubbleShownTime\n",
      "AppCategoryNMinus1\n",
      "IsVirtualDevice\n",
      "DefaultInternetBrowser\n",
      "AppCategoryNMinus8\n",
      "DisplayLanguage\n",
      "AppCategoryNMinus7\n",
      "AppCategoryNMinus3\n",
      "GamerPCClassification\n",
      "AppCategoryNMinus2\n",
      "AppCategoryNMinus4\n",
      "IsAlwaysOnAlwaysConnectedCapable\n",
      "OSOOBEDateTime\n",
      "AppCategoryNMinus5\n",
      "IsDomainJoined\n",
      "CampaignId\n",
      "creativeName\n",
      "ISOCountryShortName\n",
      "AppCategoryNMinus6\n",
      "DeviceTimezone\n",
      "GamerSegment1\n",
      "creativeNameCotainsSL\n",
      "creativeNameCotainsTS\n",
      "creativeNameCotainsWeek7\n",
      "creativeNameCotainsMeet\n",
      "creativeNameCotainsSkype\n",
      "creativeNameCotainsBattery\n",
      "creativeNameCotainsSwitch\n",
      "creativeNameCotainsPerformance\n",
      "creativeNameCotainsSecurity\n",
      "creativeNameCotainsSurge\n",
      "Replace missing values with -1\n",
      "Value count...\n",
      "UniqueUserDeviceKey\n",
      "CampaignId\n",
      "train y mean: 0.0183062522733\n",
      "Train feature engineering...: cpu 239.30, time 239.31\n",
      "\n"
     ]
    }
   ],
   "source": [
    "# Train feature engineering\n",
    "with Timer(\"Train feature engineering...\"):\n",
    "    #train = feature_engineering(train, isDeleteOddDateRows=True)\n",
    "    train = feature_engineering(train)\n",
    "    \n",
    "    train_y = train['HasClicked'].values\n",
    "    print(\"train y mean:\", train_y.mean())"
   ]
  },
  {
   "cell_type": "code",
   "execution_count": 71,
   "metadata": {
    "collapsed": false
   },
   "outputs": [
    {
     "name": "stdout",
     "output_type": "stream",
     "text": [
      "Read test and feature engineering......\n",
      "2017-04-07 06:04:15.831781\n"
     ]
    },
    {
     "name": "stderr",
     "output_type": "stream",
     "text": [
      "C:\\Users\\ryutek\\Anaconda3\\lib\\site-packages\\IPython\\core\\interactiveshell.py:2717: DtypeWarning: Columns (2,17,33) have mixed types. Specify dtype option on import or set low_memory=False.\n",
      "  interactivity=interactivity, compiler=compiler, result=result)\n"
     ]
    },
    {
     "name": "stdout",
     "output_type": "stream",
     "text": [
      "shape: (374137, 71)\n",
      "Add datetime features...\n",
      "BubbleShownTime\n",
      "FirstUpdatedDate\n",
      "OSOOBEDateTime\n",
      "shape: (374137, 83)\n",
      "Missing value count...\n",
      "Gamer segment parsing...\n",
      "Convert categorical columns to numeric...\n",
      "GamerSegment\n",
      "BubbleShownTime\n",
      "AppCategoryNMinus1\n",
      "DefaultInternetBrowser\n",
      "DisplayLanguage\n",
      "AppCategoryNMinus3\n",
      "GamerPCClassification\n",
      "AppCategoryNMinus2\n",
      "IsAlwaysOnAlwaysConnectedCapable\n",
      "CampaignId\n",
      "creativeName\n",
      "AppCategoryNMinus6\n",
      "AppCategoryNMinus8\n",
      "AppCategoryNMinus7\n",
      "AppCategoryNMinus4\n",
      "AppCategoryNMinus5\n",
      "IsDomainJoined\n",
      "ISOCountryShortName\n",
      "DeviceTimezone\n",
      "GamerSegment1\n",
      "creativeNameCotainsSL\n",
      "creativeNameCotainsTS\n",
      "creativeNameCotainsWeek7\n",
      "creativeNameCotainsMeet\n",
      "creativeNameCotainsSkype\n",
      "creativeNameCotainsBattery\n",
      "creativeNameCotainsSwitch\n",
      "creativeNameCotainsPerformance\n",
      "creativeNameCotainsSecurity\n",
      "creativeNameCotainsSurge\n",
      "Replace missing values with -1\n",
      "Value count...\n",
      "UniqueUserDeviceKey\n",
      "CampaignId\n",
      "(374137, 99)\n",
      "Read test and feature engineering...: cpu 124.49, time 124.50\n",
      "\n"
     ]
    }
   ],
   "source": [
    "with Timer(\"Read test and feature engineering...\"):\n",
    "    # Read tsv file\n",
    "    test = pd.read_csv('CoinMlCompetitionSoftlandingEvaluateNoLabel.tsv', sep='\\t', header = None)\n",
    "    \n",
    "    # Add header because test does not header\n",
    "    test.columns = test_header\n",
    "    \n",
    "    # Reduce test size by leaving train features only\n",
    "    test = test[list(set(features) - set(['HasClicked']))]\n",
    "    \n",
    "    # Feature engineering - should not delete odd date rows\n",
    "    #test = feature_engineering(test, isDeleteOddDateRows=False)\n",
    "    test = feature_engineering(test)\n",
    "    \n",
    "    print(test.shape)"
   ]
  },
  {
   "cell_type": "code",
   "execution_count": 72,
   "metadata": {
    "collapsed": false
   },
   "outputs": [
    {
     "name": "stdout",
     "output_type": "stream",
     "text": [
      "All columns: 100\n",
      "features without constant columns\n",
      "Constant column count: 0\n",
      "First 5 values: []\n",
      "features: 100\n",
      "Final features: 94\n"
     ]
    }
   ],
   "source": [
    "# Get column groups and features\n",
    "all_columns = train.columns\n",
    "print(\"All columns:\", len(all_columns))\n",
    "\n",
    "# Remove constant columns for train (all included in time_ and days_ columns)\n",
    "print(\"features without constant columns\")\n",
    "constant_columns = constantColumns(train)\n",
    "features = list(set(all_columns) - set(constant_columns))\n",
    "print(\"features:\", len(features))\n",
    "\n",
    "# With a lot of nulls, exclude time and days columns first and add later for improvement\n",
    "#print(\"features without time_ and days_ columns\")\n",
    "#time_columns = columnsStartingWith(train, 'Time_')\n",
    "#days_columns = columnsStartingWith(train, 'Days_')\n",
    "#features = list(set(features) - set(time_columns))\n",
    "#features = list(set(features) - set(days_columns))\n",
    "\n",
    "# Drop features\n",
    "drop_features = ['HasClicked', 'RowNumber', 'BubbleShownTime', 'FirstUpdatedDate', 'OSOOBEDateTime', 'creativeNameTest'] \n",
    "features = list(set(features) - set(drop_features))\n",
    "\n",
    "# Drop features\n",
    "#HighLevel_features = columnsEndingWith(train, 'HighLevel') \n",
    "#features = list(set(features) - set(HighLevel_features))\n",
    "\n",
    "# Drop features\n",
    "#UniqueUserDeviceKey_features = ['UniqueUserDeviceKeyValueCount', 'CampaignIdValueCount', 'creativeNameValueCount'] \n",
    "#features = list(set(features) - set(UniqueUserDeviceKey_features))\n",
    "\n",
    "# Add high importance Time features - To Do: will change to Avg \n",
    "'''\n",
    "imp_time_features = ['Time_Accessibility', 'Time_Browser', 'Time_Communications', 'Time_Content', 'Time_DevTools', \n",
    "                     'Time_Games', 'Time_Malware', 'Time_Media', 'Time_PersonalProductivity', 'Time_Readers', \n",
    "                     'Time_Search', 'Time_Social', 'Time_StudentAndLearning', 'Time_ModernApps', \n",
    "                     'Time_Games_Core', 'Time_Games_Casual', 'Time_windows_immersivecontrolpanel',\n",
    "                     'Time_msascui_exe', 'Time_chrome_exe', 'Time_microsoft_windows_cortana', 'Time_lockapphost_exe']\n",
    "features = list(set(features) | set(imp_time_features))\n",
    "'''\n",
    "\n",
    "print(\"Final features:\", len(features))\n",
    "\n",
    "with open('feature_list_final', 'wb') as fp:\n",
    "    pickle.dump(features, fp)"
   ]
  },
  {
   "cell_type": "code",
   "execution_count": 73,
   "metadata": {
    "collapsed": true
   },
   "outputs": [],
   "source": [
    "df_final_features = pd.DataFrame(features)\n",
    "df_final_features.to_csv('final_features.csv', index = False)"
   ]
  },
  {
   "cell_type": "code",
   "execution_count": 74,
   "metadata": {
    "collapsed": false
   },
   "outputs": [
    {
     "data": {
      "text/plain": [
       "['GamerSegment',\n",
       " 'FirstUpdatedDateDay',\n",
       " 'Time_StudentAndLearning',\n",
       " 'AppCategoryNMinus1',\n",
       " 'DefaultInternetBrowser',\n",
       " 'LifeTimeConversionCount',\n",
       " 'Time_Games_Casual',\n",
       " 'HasRearFacingCamera',\n",
       " 'InternalPrimaryDisplayLogicalDPIX',\n",
       " 'Time_Games_Core',\n",
       " 'OSOOBEDateTimeHour',\n",
       " 'Time_Browser',\n",
       " 'DisplayLanguage',\n",
       " 'TotalEngagementTimeInSec',\n",
       " 'creativeNameCotainsSL',\n",
       " 'CntNs',\n",
       " 'AppCategoryNMinus3',\n",
       " 'Time_Social',\n",
       " 'NumberofInternalDisplays',\n",
       " 'TotalPhysicalRAM',\n",
       " 'GamerPCClassification',\n",
       " 'AppCategoryNMinus2',\n",
       " 'Time_Accessibility',\n",
       " 'IsAlwaysOnAlwaysConnectedCapable',\n",
       " 'PrimaryDiskTotalCapacity',\n",
       " 'BubbleShownTimeDay',\n",
       " 'ProcessorClockSpeed',\n",
       " 'ProcessorPhysicalCores',\n",
       " 'OSOOBEDateTimeYear',\n",
       " 'RecentMonthConversionCount',\n",
       " 'IsEducation',\n",
       " 'Time_Games',\n",
       " 'creativeNameCotainsBattery',\n",
       " 'NumberofExternalDisplays',\n",
       " 'creativeNameCotainsMeet',\n",
       " 'Time_Content',\n",
       " 'creativeNameCotainsTS',\n",
       " 'IsTouchEnabled',\n",
       " 'CampaignId',\n",
       " 'creativeName',\n",
       " 'Time_Readers',\n",
       " 'creativeNameCotainsSurge',\n",
       " 'Time_windows_immersivecontrolpanel',\n",
       " 'Time_PersonalProductivity',\n",
       " 'Time_Search',\n",
       " 'InternalPrimaryDisplayResolutionVertical',\n",
       " 'Time_microsoft_windows_cortana',\n",
       " 'Time_DevTools',\n",
       " 'InternalPrimaryDisplayResolutionHorizontal',\n",
       " 'AppCategoryNMinus6',\n",
       " 'creativeNameCotainsSecurity',\n",
       " 'FirstUpdatedDateYear',\n",
       " 'UniqueUserDeviceKey',\n",
       " 'creativeNameCotainsPerformance',\n",
       " 'FirstUpdatedDateMonth',\n",
       " 'IsCommercial',\n",
       " 'AppCatCntNs',\n",
       " 'GamerSegment1',\n",
       " 'Time_ModernApps',\n",
       " 'IsVirtualDevice',\n",
       " 'creativeNameCotainsSwitch',\n",
       " 'FrontFacingCameraResolution',\n",
       " 'Time_Malware',\n",
       " 'AppCategoryNMinus8',\n",
       " 'UniqueUserDeviceKeyValueCount',\n",
       " 'HasFrontFacingCamera',\n",
       " 'AppCategoryNMinus7',\n",
       " 'BubbleShownTimeYear',\n",
       " 'CampaignIdValueCount',\n",
       " 'creativeNameCotainsWeek7',\n",
       " 'OSOOBEDateTimeDay',\n",
       " 'AppCategoryNMinus4',\n",
       " 'LifeTimeImpressionCount',\n",
       " 'ProcessorCores',\n",
       " 'FirstUpdatedDateHour',\n",
       " 'TotalDays',\n",
       " 'InternalPrimaryDiagonalDisplaySizeInInches',\n",
       " 'OSOOBEDateTimeMonth',\n",
       " 'creativeNameCotainsSkype',\n",
       " 'Time_Communications',\n",
       " 'AppCategoryNMinus5',\n",
       " 'IsPenCapable',\n",
       " 'IsDomainJoined',\n",
       " 'InternalBatteryNumberOfCharges',\n",
       " 'Time_lockapphost_exe',\n",
       " 'BubbleShownTimeMonth',\n",
       " 'InternalPrimaryDisplayLogicalDPIY',\n",
       " 'BubbleShownTimeHour',\n",
       " 'ISOCountryShortName',\n",
       " 'Time_msascui_exe',\n",
       " 'IsMalware',\n",
       " 'Time_chrome_exe',\n",
       " 'Time_Media',\n",
       " 'DeviceTimezone']"
      ]
     },
     "execution_count": 74,
     "metadata": {},
     "output_type": "execute_result"
    }
   ],
   "source": [
    "features"
   ]
  },
  {
   "cell_type": "code",
   "execution_count": 75,
   "metadata": {
    "collapsed": false
   },
   "outputs": [
    {
     "name": "stdout",
     "output_type": "stream",
     "text": [
      "# train validation split...\n",
      "2017-04-07 06:06:23.126392\n",
      "(1145111,)\n",
      "(1145111, 94)\n",
      "(202079,)\n",
      "(202079, 94)\n",
      "0.0182043487487\n",
      "0.018883703898\n",
      "# train validation split: cpu 4.55, time 4.55\n",
      "\n"
     ]
    }
   ],
   "source": [
    "from sklearn.model_selection import train_test_split\n",
    "with Timer('# train validation split'):\n",
    "    #X_train, X_val, y_train, y_val = train_test_split(train[train.isUnderSampled == True][features], train_y[train.isUnderSampled == True], test_size=0.2, random_state=0)\n",
    "    X_train, X_val, y_train, y_val = train_test_split(train[features], train_y, test_size=0.15, random_state=0)\n",
    "    \n",
    "    gc.collect()\n",
    "\n",
    "    print(y_train.shape)\n",
    "    print(X_train.shape)\n",
    "    print(y_val.shape)\n",
    "    print(X_val.shape)\n",
    "    \n",
    "    print(y_train.mean())\n",
    "    print(y_val.mean())\n",
    "    \n",
    "    #del train\n",
    "    gc.collect()"
   ]
  },
  {
   "cell_type": "code",
   "execution_count": 76,
   "metadata": {
    "collapsed": false
   },
   "outputs": [
    {
     "name": "stdout",
     "output_type": "stream",
     "text": [
      "(1145111, 94)\n",
      "(202079, 94)\n"
     ]
    }
   ],
   "source": [
    "#train_data = lgb.Dataset(X_train[X_train.isUnderSampled == True][features], label=X_train[X_train.isUnderSampled == True]['HasClicked'].values)\n",
    "\n",
    "train_data = lgb.Dataset(X_train[features], label=y_train)\n",
    "val_data = lgb.Dataset(X_val[features], y_val)\n",
    "\n",
    "# use train holdout directly with t f ratio\n",
    "#train_data = lgb.Dataset(train[features], label=train_y)\n",
    "#val_data = lgb.Dataset(holdout[features], y_holdout)\n",
    "\n",
    "print(X_train[features].shape)\n",
    "print(X_val[features].shape)"
   ]
  },
  {
   "cell_type": "code",
   "execution_count": 77,
   "metadata": {
    "collapsed": false
   },
   "outputs": [
    {
     "name": "stdout",
     "output_type": "stream",
     "text": [
      "[1]\tvalid_0's auc: 0.637387\n",
      "Train until valid scores didn't improve in 30 rounds.\n",
      "[2]\tvalid_0's auc: 0.65742\n",
      "[3]\tvalid_0's auc: 0.661398\n",
      "[4]\tvalid_0's auc: 0.659531\n",
      "[5]\tvalid_0's auc: 0.663241\n",
      "[6]\tvalid_0's auc: 0.668461\n",
      "[7]\tvalid_0's auc: 0.66899\n",
      "[8]\tvalid_0's auc: 0.671335\n",
      "[9]\tvalid_0's auc: 0.670687\n",
      "[10]\tvalid_0's auc: 0.671952\n",
      "[11]\tvalid_0's auc: 0.670663\n",
      "[12]\tvalid_0's auc: 0.673588\n",
      "[13]\tvalid_0's auc: 0.673001\n",
      "[14]\tvalid_0's auc: 0.672487\n",
      "[15]\tvalid_0's auc: 0.671881\n",
      "[16]\tvalid_0's auc: 0.672103\n",
      "[17]\tvalid_0's auc: 0.671818\n",
      "[18]\tvalid_0's auc: 0.673034\n",
      "[19]\tvalid_0's auc: 0.67256\n",
      "[20]\tvalid_0's auc: 0.673628\n",
      "[21]\tvalid_0's auc: 0.672909\n",
      "[22]\tvalid_0's auc: 0.672653\n",
      "[23]\tvalid_0's auc: 0.672332\n",
      "[24]\tvalid_0's auc: 0.672364\n",
      "[25]\tvalid_0's auc: 0.671823\n",
      "[26]\tvalid_0's auc: 0.671646\n",
      "[27]\tvalid_0's auc: 0.671195\n",
      "[28]\tvalid_0's auc: 0.670834\n",
      "[29]\tvalid_0's auc: 0.67089\n",
      "[30]\tvalid_0's auc: 0.671948\n",
      "[31]\tvalid_0's auc: 0.671837\n",
      "[32]\tvalid_0's auc: 0.671501\n",
      "[33]\tvalid_0's auc: 0.671758\n",
      "[34]\tvalid_0's auc: 0.671642\n",
      "[35]\tvalid_0's auc: 0.671505\n",
      "[36]\tvalid_0's auc: 0.671402\n",
      "[37]\tvalid_0's auc: 0.671176\n",
      "[38]\tvalid_0's auc: 0.671057\n",
      "[39]\tvalid_0's auc: 0.671389\n",
      "[40]\tvalid_0's auc: 0.671773\n",
      "[41]\tvalid_0's auc: 0.672841\n",
      "[42]\tvalid_0's auc: 0.674168\n",
      "[43]\tvalid_0's auc: 0.67451\n",
      "[44]\tvalid_0's auc: 0.67467\n",
      "[45]\tvalid_0's auc: 0.675596\n",
      "[46]\tvalid_0's auc: 0.675338\n",
      "[47]\tvalid_0's auc: 0.675768\n",
      "[48]\tvalid_0's auc: 0.676012\n",
      "[49]\tvalid_0's auc: 0.676767\n",
      "[50]\tvalid_0's auc: 0.677457\n",
      "[51]\tvalid_0's auc: 0.677297\n",
      "[52]\tvalid_0's auc: 0.67749\n",
      "[53]\tvalid_0's auc: 0.678036\n",
      "[54]\tvalid_0's auc: 0.677877\n",
      "[55]\tvalid_0's auc: 0.677651\n",
      "[56]\tvalid_0's auc: 0.677388\n",
      "[57]\tvalid_0's auc: 0.677379\n",
      "[58]\tvalid_0's auc: 0.677688\n",
      "[59]\tvalid_0's auc: 0.677667\n",
      "[60]\tvalid_0's auc: 0.677758\n",
      "[61]\tvalid_0's auc: 0.677468\n",
      "[62]\tvalid_0's auc: 0.677523\n",
      "[63]\tvalid_0's auc: 0.678253\n",
      "[64]\tvalid_0's auc: 0.678082\n",
      "[65]\tvalid_0's auc: 0.678601\n",
      "[66]\tvalid_0's auc: 0.678428\n",
      "[67]\tvalid_0's auc: 0.67829\n",
      "[68]\tvalid_0's auc: 0.67859\n",
      "[69]\tvalid_0's auc: 0.679469\n",
      "[70]\tvalid_0's auc: 0.679822\n",
      "[71]\tvalid_0's auc: 0.680661\n",
      "[72]\tvalid_0's auc: 0.681076\n",
      "[73]\tvalid_0's auc: 0.681323\n",
      "[74]\tvalid_0's auc: 0.681756\n",
      "[75]\tvalid_0's auc: 0.681971\n",
      "[76]\tvalid_0's auc: 0.682009\n",
      "[77]\tvalid_0's auc: 0.682624\n",
      "[78]\tvalid_0's auc: 0.683151\n",
      "[79]\tvalid_0's auc: 0.683508\n",
      "[80]\tvalid_0's auc: 0.68353\n",
      "[81]\tvalid_0's auc: 0.683899\n",
      "[82]\tvalid_0's auc: 0.684285\n",
      "[83]\tvalid_0's auc: 0.684343\n",
      "[84]\tvalid_0's auc: 0.685003\n",
      "[85]\tvalid_0's auc: 0.685456\n",
      "[86]\tvalid_0's auc: 0.685453\n",
      "[87]\tvalid_0's auc: 0.686096\n",
      "[88]\tvalid_0's auc: 0.686225\n",
      "[89]\tvalid_0's auc: 0.686535\n",
      "[90]\tvalid_0's auc: 0.686982\n",
      "[91]\tvalid_0's auc: 0.687392\n",
      "[92]\tvalid_0's auc: 0.687542\n",
      "[93]\tvalid_0's auc: 0.687723\n",
      "[94]\tvalid_0's auc: 0.688048\n",
      "[95]\tvalid_0's auc: 0.688485\n",
      "[96]\tvalid_0's auc: 0.688862\n",
      "[97]\tvalid_0's auc: 0.68929\n",
      "[98]\tvalid_0's auc: 0.689301\n",
      "[99]\tvalid_0's auc: 0.689931\n",
      "[100]\tvalid_0's auc: 0.690335\n",
      "[101]\tvalid_0's auc: 0.690742\n",
      "[102]\tvalid_0's auc: 0.690915\n",
      "[103]\tvalid_0's auc: 0.691016\n",
      "[104]\tvalid_0's auc: 0.691078\n",
      "[105]\tvalid_0's auc: 0.691347\n",
      "[106]\tvalid_0's auc: 0.691546\n",
      "[107]\tvalid_0's auc: 0.691778\n",
      "[108]\tvalid_0's auc: 0.69211\n",
      "[109]\tvalid_0's auc: 0.692125\n",
      "[110]\tvalid_0's auc: 0.692495\n",
      "[111]\tvalid_0's auc: 0.692678\n",
      "[112]\tvalid_0's auc: 0.692835\n",
      "[113]\tvalid_0's auc: 0.693116\n",
      "[114]\tvalid_0's auc: 0.69323\n",
      "[115]\tvalid_0's auc: 0.693398\n",
      "[116]\tvalid_0's auc: 0.693431\n",
      "[117]\tvalid_0's auc: 0.69355\n",
      "[118]\tvalid_0's auc: 0.693817\n",
      "[119]\tvalid_0's auc: 0.693986\n",
      "[120]\tvalid_0's auc: 0.694216\n",
      "[121]\tvalid_0's auc: 0.694274\n",
      "[122]\tvalid_0's auc: 0.694794\n",
      "[123]\tvalid_0's auc: 0.694841\n",
      "[124]\tvalid_0's auc: 0.695064\n",
      "[125]\tvalid_0's auc: 0.695147\n",
      "[126]\tvalid_0's auc: 0.695268\n",
      "[127]\tvalid_0's auc: 0.695523\n",
      "[128]\tvalid_0's auc: 0.695811\n",
      "[129]\tvalid_0's auc: 0.69585\n",
      "[130]\tvalid_0's auc: 0.696001\n",
      "[131]\tvalid_0's auc: 0.696392\n",
      "[132]\tvalid_0's auc: 0.696548\n",
      "[133]\tvalid_0's auc: 0.696542\n",
      "[134]\tvalid_0's auc: 0.696635\n",
      "[135]\tvalid_0's auc: 0.69672\n",
      "[136]\tvalid_0's auc: 0.696802\n",
      "[137]\tvalid_0's auc: 0.696772\n",
      "[138]\tvalid_0's auc: 0.69696\n",
      "[139]\tvalid_0's auc: 0.697152\n",
      "[140]\tvalid_0's auc: 0.697208\n",
      "[141]\tvalid_0's auc: 0.697379\n",
      "[142]\tvalid_0's auc: 0.697608\n",
      "[143]\tvalid_0's auc: 0.697801\n",
      "[144]\tvalid_0's auc: 0.698105\n",
      "[145]\tvalid_0's auc: 0.698304\n",
      "[146]\tvalid_0's auc: 0.698394\n",
      "[147]\tvalid_0's auc: 0.698454\n",
      "[148]\tvalid_0's auc: 0.698506\n",
      "[149]\tvalid_0's auc: 0.69856\n",
      "[150]\tvalid_0's auc: 0.69852\n",
      "[151]\tvalid_0's auc: 0.698816\n",
      "[152]\tvalid_0's auc: 0.698854\n",
      "[153]\tvalid_0's auc: 0.699118\n",
      "[154]\tvalid_0's auc: 0.699288\n",
      "[155]\tvalid_0's auc: 0.699385\n",
      "[156]\tvalid_0's auc: 0.699498\n",
      "[157]\tvalid_0's auc: 0.699632\n",
      "[158]\tvalid_0's auc: 0.699812\n",
      "[159]\tvalid_0's auc: 0.699865\n",
      "[160]\tvalid_0's auc: 0.699903\n",
      "[161]\tvalid_0's auc: 0.699944\n",
      "[162]\tvalid_0's auc: 0.700101\n",
      "[163]\tvalid_0's auc: 0.700185\n",
      "[164]\tvalid_0's auc: 0.700216\n",
      "[165]\tvalid_0's auc: 0.700388\n",
      "[166]\tvalid_0's auc: 0.700478\n",
      "[167]\tvalid_0's auc: 0.700439\n",
      "[168]\tvalid_0's auc: 0.7005\n",
      "[169]\tvalid_0's auc: 0.70054\n",
      "[170]\tvalid_0's auc: 0.700766\n",
      "[171]\tvalid_0's auc: 0.700823\n",
      "[172]\tvalid_0's auc: 0.700859\n",
      "[173]\tvalid_0's auc: 0.700874\n",
      "[174]\tvalid_0's auc: 0.700905\n",
      "[175]\tvalid_0's auc: 0.700936\n",
      "[176]\tvalid_0's auc: 0.701101\n",
      "[177]\tvalid_0's auc: 0.701164\n",
      "[178]\tvalid_0's auc: 0.701279\n",
      "[179]\tvalid_0's auc: 0.701408\n",
      "[180]\tvalid_0's auc: 0.701507\n",
      "[181]\tvalid_0's auc: 0.701481\n",
      "[182]\tvalid_0's auc: 0.701531\n",
      "[183]\tvalid_0's auc: 0.70162\n",
      "[184]\tvalid_0's auc: 0.701653\n",
      "[185]\tvalid_0's auc: 0.701636\n",
      "[186]\tvalid_0's auc: 0.701892\n",
      "[187]\tvalid_0's auc: 0.701906\n",
      "[188]\tvalid_0's auc: 0.702068\n",
      "[189]\tvalid_0's auc: 0.702071\n",
      "[190]\tvalid_0's auc: 0.702053\n",
      "[191]\tvalid_0's auc: 0.70212\n",
      "[192]\tvalid_0's auc: 0.702178\n",
      "[193]\tvalid_0's auc: 0.702275\n",
      "[194]\tvalid_0's auc: 0.702264\n",
      "[195]\tvalid_0's auc: 0.702322\n",
      "[196]\tvalid_0's auc: 0.702394\n",
      "[197]\tvalid_0's auc: 0.70235\n",
      "[198]\tvalid_0's auc: 0.702341\n",
      "[199]\tvalid_0's auc: 0.702434\n",
      "[200]\tvalid_0's auc: 0.702651\n",
      "[201]\tvalid_0's auc: 0.702539\n",
      "[202]\tvalid_0's auc: 0.702624\n",
      "[203]\tvalid_0's auc: 0.702682\n",
      "[204]\tvalid_0's auc: 0.702785\n",
      "[205]\tvalid_0's auc: 0.702804\n",
      "[206]\tvalid_0's auc: 0.702768\n",
      "[207]\tvalid_0's auc: 0.702906\n",
      "[208]\tvalid_0's auc: 0.702966\n",
      "[209]\tvalid_0's auc: 0.703012\n",
      "[210]\tvalid_0's auc: 0.703163\n",
      "[211]\tvalid_0's auc: 0.703283\n",
      "[212]\tvalid_0's auc: 0.703338\n",
      "[213]\tvalid_0's auc: 0.703345\n",
      "[214]\tvalid_0's auc: 0.703281\n",
      "[215]\tvalid_0's auc: 0.703293\n",
      "[216]\tvalid_0's auc: 0.703284\n",
      "[217]\tvalid_0's auc: 0.703334\n",
      "[218]\tvalid_0's auc: 0.703305\n",
      "[219]\tvalid_0's auc: 0.703471\n",
      "[220]\tvalid_0's auc: 0.703511\n",
      "[221]\tvalid_0's auc: 0.703398\n",
      "[222]\tvalid_0's auc: 0.703417\n",
      "[223]\tvalid_0's auc: 0.703488\n",
      "[224]\tvalid_0's auc: 0.703535\n",
      "[225]\tvalid_0's auc: 0.703435\n",
      "[226]\tvalid_0's auc: 0.703484\n",
      "[227]\tvalid_0's auc: 0.703532\n",
      "[228]\tvalid_0's auc: 0.703691\n",
      "[229]\tvalid_0's auc: 0.703503\n",
      "[230]\tvalid_0's auc: 0.703514\n",
      "[231]\tvalid_0's auc: 0.703534\n",
      "[232]\tvalid_0's auc: 0.703613\n",
      "[233]\tvalid_0's auc: 0.703725\n",
      "[234]\tvalid_0's auc: 0.70375\n",
      "[235]\tvalid_0's auc: 0.703742\n",
      "[236]\tvalid_0's auc: 0.703838\n",
      "[237]\tvalid_0's auc: 0.703825\n",
      "[238]\tvalid_0's auc: 0.703942\n",
      "[239]\tvalid_0's auc: 0.703985\n",
      "[240]\tvalid_0's auc: 0.704104\n",
      "[241]\tvalid_0's auc: 0.704053\n",
      "[242]\tvalid_0's auc: 0.704045\n",
      "[243]\tvalid_0's auc: 0.704022\n",
      "[244]\tvalid_0's auc: 0.703978\n",
      "[245]\tvalid_0's auc: 0.703943\n",
      "[246]\tvalid_0's auc: 0.703975\n",
      "[247]\tvalid_0's auc: 0.703948\n",
      "[248]\tvalid_0's auc: 0.703968\n",
      "[249]\tvalid_0's auc: 0.704099\n",
      "[250]\tvalid_0's auc: 0.704173\n",
      "[251]\tvalid_0's auc: 0.704104\n",
      "[252]\tvalid_0's auc: 0.704089\n",
      "[253]\tvalid_0's auc: 0.704102\n",
      "[254]\tvalid_0's auc: 0.704113\n",
      "[255]\tvalid_0's auc: 0.704178\n",
      "[256]\tvalid_0's auc: 0.704219\n",
      "[257]\tvalid_0's auc: 0.704287\n",
      "[258]\tvalid_0's auc: 0.704375\n",
      "[259]\tvalid_0's auc: 0.704394\n",
      "[260]\tvalid_0's auc: 0.704417\n",
      "[261]\tvalid_0's auc: 0.704272\n",
      "[262]\tvalid_0's auc: 0.704195\n",
      "[263]\tvalid_0's auc: 0.704269\n",
      "[264]\tvalid_0's auc: 0.704337\n",
      "[265]\tvalid_0's auc: 0.704284\n",
      "[266]\tvalid_0's auc: 0.704291\n",
      "[267]\tvalid_0's auc: 0.704277\n",
      "[268]\tvalid_0's auc: 0.704236\n",
      "[269]\tvalid_0's auc: 0.70419\n",
      "[270]\tvalid_0's auc: 0.704249\n",
      "[271]\tvalid_0's auc: 0.704192\n",
      "[272]\tvalid_0's auc: 0.704179\n",
      "[273]\tvalid_0's auc: 0.704302\n",
      "[274]\tvalid_0's auc: 0.704363\n",
      "[275]\tvalid_0's auc: 0.704423\n",
      "[276]\tvalid_0's auc: 0.70435\n",
      "[277]\tvalid_0's auc: 0.704375\n",
      "[278]\tvalid_0's auc: 0.704423\n",
      "[279]\tvalid_0's auc: 0.704489\n",
      "[280]\tvalid_0's auc: 0.704525\n",
      "[281]\tvalid_0's auc: 0.704603\n",
      "[282]\tvalid_0's auc: 0.704591\n",
      "[283]\tvalid_0's auc: 0.704624\n",
      "[284]\tvalid_0's auc: 0.704708\n",
      "[285]\tvalid_0's auc: 0.704799\n",
      "[286]\tvalid_0's auc: 0.704979\n",
      "[287]\tvalid_0's auc: 0.70488\n",
      "[288]\tvalid_0's auc: 0.704762\n",
      "[289]\tvalid_0's auc: 0.704816\n",
      "[290]\tvalid_0's auc: 0.704832\n",
      "[291]\tvalid_0's auc: 0.704894\n",
      "[292]\tvalid_0's auc: 0.704895\n",
      "[293]\tvalid_0's auc: 0.704892\n",
      "[294]\tvalid_0's auc: 0.704973\n",
      "[295]\tvalid_0's auc: 0.704965\n",
      "[296]\tvalid_0's auc: 0.70498\n",
      "[297]\tvalid_0's auc: 0.705054\n",
      "[298]\tvalid_0's auc: 0.705132\n",
      "[299]\tvalid_0's auc: 0.705231\n",
      "[300]\tvalid_0's auc: 0.705259\n"
     ]
    }
   ],
   "source": [
    "random.seed(2017)\n",
    "\n",
    "params = {\n",
    "    'task' : 'train',\n",
    "    'boosting_type' : 'gbdt', #'gbdt', # dart\n",
    "    'objective' : 'binary',\n",
    "    'metric' : 'auc', # 'binary_logloss', #'binary_logloss', # binary_logloss, auc\n",
    "    'is_training_metric': True,\n",
    "    'max_bin': 255,\n",
    "    'num_leaves' : 64,\n",
    "    'learning_rate' : 0.05, # 0.05, #0.1,\n",
    "    'feature_fraction' : 0.8,\n",
    "    'min_data_in_leaf': 10,\n",
    "    'min_sum_hessian_in_leaf': 5,\n",
    "    # 'num_threads': 16,\n",
    "}\n",
    "num_round = 300\n",
    "\n",
    "\n",
    "bst = lgb.train(params, train_data, num_round, valid_sets=val_data, early_stopping_rounds=30)\n",
    "\n",
    "# dump model with txt\n",
    "bst.save_model('model.txt', num_iteration=bst.best_iteration)\n",
    "\n",
    "# dump model with pickle\n",
    "#with open('model.pkl', 'wb') as fout:\n",
    "#    pickle.dump(bst, fout)\n",
    "\n",
    "val_preds = bst.predict(X_val[features], num_iteration=bst.best_iteration)\n",
    "#holdout_preds = bst.predict(holdout[features], num_iteration=bst.best_iteration)\n",
    "#test_preds = bst.predict(test[features], num_iteration=bst.best_iteration)\n",
    "\n",
    "#0.7019 \n",
    "\n",
    "# Including all high level and ymd and ymdh\n",
    "# [297]\tvalid_0's auc:0.67564 F1 score: 0.096338028169, best thr: 0.325385385385, Click mean: 0.0343981839588\n",
    "\n",
    "# without ymd; f1 score not improved, so keep this\n",
    "# [201]\tvalid_0's auc:0.67772 F1 score: 0.0966780126125, best thr: 0.306746746747, Click mean: 0.0379598932823\n",
    "\n",
    "# With uniqueUserDeviceKey valueCount\n",
    "# [368]\tvalid_0's auc:0.664831 F1 score: 0.06x ???\n",
    "\n",
    "# Value counts\n",
    "# [525]\tvalid_0's auc:0.686445 f1 score: 0.104380886546 thr: 0.325875875876 Click mean: 0.0332386612486 (gain: 0.04)\n",
    "\n",
    "# Count UniqueUserDeviceKey\n",
    "# [505]\tvalid_0's auc:0.706443 f1 score: 0.128913201081 thr: 0.371491491491 Click mean: 0.0267462248702 (gain:0.024)\n",
    "\n",
    "# Count CampaignId\n",
    "# [544]\tvalid_0's auc:0.707357 f1 score: 0.13101569594 thr: 0.363643643644 Click mean: 0.0274719972684 (gain: 0.002)\n",
    "\n",
    "# Remove all time and days\n",
    "# [392]\tvalid_0's auc:0.703582 f1 score: 0.123669773283 thr: 0.378358358358 Click mean: 0.0266139148895\n",
    "\n",
    "# Include imp time features\n",
    "# [418]\tvalid_0's auc:0.706095 f1 score: 0.126989843694 thr: 0.386206206206 Click mean: 0.0229143624878 (loss: 0.004)\n",
    "\n",
    "# High score submission\n",
    "# [1409]\tvalid_0's auc:0.701104 local f1: f1 score: 0.143733567046 lb: 0.124101 (early stopping: 5)\n",
    "\n"
   ]
  },
  {
   "cell_type": "code",
   "execution_count": 78,
   "metadata": {
    "collapsed": false
   },
   "outputs": [
    {
     "name": "stdout",
     "output_type": "stream",
     "text": [
      "Validaion\n",
      "f1 score: 0.14913280162\n",
      "best threshold: 0.0634634634635\n",
      "TF pred mean: 0.0202049693437\n"
     ]
    },
    {
     "data": {
      "image/png": "[encoded data removed]",
      "text/plain": [
       "<matplotlib.figure.Figure at 0x264895d3978>"
      ]
     },
     "metadata": {},
     "output_type": "display_data"
    }
   ],
   "source": [
    "print('Validaion')\n",
    "val_best_threshold = f1_best_threshold(y_val, val_preds)\n",
    "\n",
    "#f1 score: 0.143733567046\n",
    "#best threshold: 0.0673873873874\n",
    "#TF pred mean: 0.0149941359567"
   ]
  },
  {
   "cell_type": "code",
   "execution_count": 79,
   "metadata": {
    "collapsed": false
   },
   "outputs": [
    {
     "data": {
      "text/plain": [
       "array([251, 448,  13, 243, 171, 728, 107,   5,  16, 125, 368, 234, 327,\n",
       "       264,  88, 226, 193,  83,  18, 223, 113, 207,  38,   2, 213, 321,\n",
       "       487,  57,  90,   6,  24, 136,  92,  22,  30, 147, 184,  35, 614,\n",
       "       398, 157,  52, 433, 265,   8, 154, 271,  74, 118, 191,  23, 138,\n",
       "       667,   9, 272, 181,  69, 205, 327,  12,  56,  88,   0, 176, 534,\n",
       "        15, 222,   0, 585,  17, 489, 190, 718,  74, 383, 181, 347, 371,\n",
       "        17, 186, 171,  13,  40, 193, 265,  24,   1, 340, 883, 280,   0,\n",
       "       289, 287, 492])"
      ]
     },
     "execution_count": 79,
     "metadata": {},
     "output_type": "execute_result"
    }
   ],
   "source": [
    "bst.feature_importance()"
   ]
  },
  {
   "cell_type": "code",
   "execution_count": 80,
   "metadata": {
    "collapsed": false
   },
   "outputs": [
    {
     "data": {
      "text/html": [
       "<div>\n",
       "<table border=\"1\" class=\"dataframe\">\n",
       "  <thead>\n",
       "    <tr style=\"text-align: right;\">\n",
       "      <th></th>\n",
       "      <th>importance</th>\n",
       "      <th>feature</th>\n",
       "    </tr>\n",
       "  </thead>\n",
       "  <tbody>\n",
       "    <tr>\n",
       "      <th>88</th>\n",
       "      <td>883</td>\n",
       "      <td>ISOCountryShortName</td>\n",
       "    </tr>\n",
       "    <tr>\n",
       "      <th>5</th>\n",
       "      <td>728</td>\n",
       "      <td>LifeTimeConversionCount</td>\n",
       "    </tr>\n",
       "    <tr>\n",
       "      <th>72</th>\n",
       "      <td>718</td>\n",
       "      <td>LifeTimeImpressionCount</td>\n",
       "    </tr>\n",
       "    <tr>\n",
       "      <th>52</th>\n",
       "      <td>667</td>\n",
       "      <td>UniqueUserDeviceKey</td>\n",
       "    </tr>\n",
       "    <tr>\n",
       "      <th>38</th>\n",
       "      <td>614</td>\n",
       "      <td>CampaignId</td>\n",
       "    </tr>\n",
       "    <tr>\n",
       "      <th>68</th>\n",
       "      <td>585</td>\n",
       "      <td>CampaignIdValueCount</td>\n",
       "    </tr>\n",
       "    <tr>\n",
       "      <th>64</th>\n",
       "      <td>534</td>\n",
       "      <td>UniqueUserDeviceKeyValueCount</td>\n",
       "    </tr>\n",
       "    <tr>\n",
       "      <th>93</th>\n",
       "      <td>492</td>\n",
       "      <td>DeviceTimezone</td>\n",
       "    </tr>\n",
       "    <tr>\n",
       "      <th>70</th>\n",
       "      <td>489</td>\n",
       "      <td>OSOOBEDateTimeDay</td>\n",
       "    </tr>\n",
       "    <tr>\n",
       "      <th>26</th>\n",
       "      <td>487</td>\n",
       "      <td>ProcessorClockSpeed</td>\n",
       "    </tr>\n",
       "    <tr>\n",
       "      <th>1</th>\n",
       "      <td>448</td>\n",
       "      <td>FirstUpdatedDateDay</td>\n",
       "    </tr>\n",
       "    <tr>\n",
       "      <th>42</th>\n",
       "      <td>433</td>\n",
       "      <td>Time_windows_immersivecontrolpanel</td>\n",
       "    </tr>\n",
       "    <tr>\n",
       "      <th>39</th>\n",
       "      <td>398</td>\n",
       "      <td>creativeName</td>\n",
       "    </tr>\n",
       "    <tr>\n",
       "      <th>74</th>\n",
       "      <td>383</td>\n",
       "      <td>FirstUpdatedDateHour</td>\n",
       "    </tr>\n",
       "    <tr>\n",
       "      <th>77</th>\n",
       "      <td>371</td>\n",
       "      <td>OSOOBEDateTimeMonth</td>\n",
       "    </tr>\n",
       "    <tr>\n",
       "      <th>10</th>\n",
       "      <td>368</td>\n",
       "      <td>OSOOBEDateTimeHour</td>\n",
       "    </tr>\n",
       "    <tr>\n",
       "      <th>76</th>\n",
       "      <td>347</td>\n",
       "      <td>InternalPrimaryDiagonalDisplaySizeInInches</td>\n",
       "    </tr>\n",
       "    <tr>\n",
       "      <th>87</th>\n",
       "      <td>340</td>\n",
       "      <td>BubbleShownTimeHour</td>\n",
       "    </tr>\n",
       "    <tr>\n",
       "      <th>12</th>\n",
       "      <td>327</td>\n",
       "      <td>DisplayLanguage</td>\n",
       "    </tr>\n",
       "    <tr>\n",
       "      <th>58</th>\n",
       "      <td>327</td>\n",
       "      <td>Time_ModernApps</td>\n",
       "    </tr>\n",
       "    <tr>\n",
       "      <th>25</th>\n",
       "      <td>321</td>\n",
       "      <td>BubbleShownTimeDay</td>\n",
       "    </tr>\n",
       "    <tr>\n",
       "      <th>91</th>\n",
       "      <td>289</td>\n",
       "      <td>Time_chrome_exe</td>\n",
       "    </tr>\n",
       "    <tr>\n",
       "      <th>92</th>\n",
       "      <td>287</td>\n",
       "      <td>Time_Media</td>\n",
       "    </tr>\n",
       "    <tr>\n",
       "      <th>89</th>\n",
       "      <td>280</td>\n",
       "      <td>Time_msascui_exe</td>\n",
       "    </tr>\n",
       "    <tr>\n",
       "      <th>54</th>\n",
       "      <td>272</td>\n",
       "      <td>FirstUpdatedDateMonth</td>\n",
       "    </tr>\n",
       "    <tr>\n",
       "      <th>46</th>\n",
       "      <td>271</td>\n",
       "      <td>Time_microsoft_windows_cortana</td>\n",
       "    </tr>\n",
       "    <tr>\n",
       "      <th>84</th>\n",
       "      <td>265</td>\n",
       "      <td>Time_lockapphost_exe</td>\n",
       "    </tr>\n",
       "    <tr>\n",
       "      <th>43</th>\n",
       "      <td>265</td>\n",
       "      <td>Time_PersonalProductivity</td>\n",
       "    </tr>\n",
       "    <tr>\n",
       "      <th>13</th>\n",
       "      <td>264</td>\n",
       "      <td>TotalEngagementTimeInSec</td>\n",
       "    </tr>\n",
       "    <tr>\n",
       "      <th>0</th>\n",
       "      <td>251</td>\n",
       "      <td>GamerSegment</td>\n",
       "    </tr>\n",
       "    <tr>\n",
       "      <th>...</th>\n",
       "      <td>...</td>\n",
       "      <td>...</td>\n",
       "    </tr>\n",
       "    <tr>\n",
       "      <th>48</th>\n",
       "      <td>118</td>\n",
       "      <td>InternalPrimaryDisplayResolutionHorizontal</td>\n",
       "    </tr>\n",
       "    <tr>\n",
       "      <th>20</th>\n",
       "      <td>113</td>\n",
       "      <td>GamerPCClassification</td>\n",
       "    </tr>\n",
       "    <tr>\n",
       "      <th>6</th>\n",
       "      <td>107</td>\n",
       "      <td>Time_Games_Casual</td>\n",
       "    </tr>\n",
       "    <tr>\n",
       "      <th>32</th>\n",
       "      <td>92</td>\n",
       "      <td>creativeNameCotainsBattery</td>\n",
       "    </tr>\n",
       "    <tr>\n",
       "      <th>28</th>\n",
       "      <td>90</td>\n",
       "      <td>OSOOBEDateTimeYear</td>\n",
       "    </tr>\n",
       "    <tr>\n",
       "      <th>14</th>\n",
       "      <td>88</td>\n",
       "      <td>creativeNameCotainsSL</td>\n",
       "    </tr>\n",
       "    <tr>\n",
       "      <th>61</th>\n",
       "      <td>88</td>\n",
       "      <td>FrontFacingCameraResolution</td>\n",
       "    </tr>\n",
       "    <tr>\n",
       "      <th>17</th>\n",
       "      <td>83</td>\n",
       "      <td>Time_Social</td>\n",
       "    </tr>\n",
       "    <tr>\n",
       "      <th>47</th>\n",
       "      <td>74</td>\n",
       "      <td>Time_DevTools</td>\n",
       "    </tr>\n",
       "    <tr>\n",
       "      <th>73</th>\n",
       "      <td>74</td>\n",
       "      <td>ProcessorCores</td>\n",
       "    </tr>\n",
       "    <tr>\n",
       "      <th>56</th>\n",
       "      <td>69</td>\n",
       "      <td>AppCatCntNs</td>\n",
       "    </tr>\n",
       "    <tr>\n",
       "      <th>27</th>\n",
       "      <td>57</td>\n",
       "      <td>ProcessorPhysicalCores</td>\n",
       "    </tr>\n",
       "    <tr>\n",
       "      <th>60</th>\n",
       "      <td>56</td>\n",
       "      <td>creativeNameCotainsSwitch</td>\n",
       "    </tr>\n",
       "    <tr>\n",
       "      <th>41</th>\n",
       "      <td>52</td>\n",
       "      <td>creativeNameCotainsSurge</td>\n",
       "    </tr>\n",
       "    <tr>\n",
       "      <th>82</th>\n",
       "      <td>40</td>\n",
       "      <td>IsDomainJoined</td>\n",
       "    </tr>\n",
       "    <tr>\n",
       "      <th>22</th>\n",
       "      <td>38</td>\n",
       "      <td>Time_Accessibility</td>\n",
       "    </tr>\n",
       "    <tr>\n",
       "      <th>37</th>\n",
       "      <td>35</td>\n",
       "      <td>IsTouchEnabled</td>\n",
       "    </tr>\n",
       "    <tr>\n",
       "      <th>34</th>\n",
       "      <td>30</td>\n",
       "      <td>creativeNameCotainsMeet</td>\n",
       "    </tr>\n",
       "    <tr>\n",
       "      <th>85</th>\n",
       "      <td>24</td>\n",
       "      <td>BubbleShownTimeMonth</td>\n",
       "    </tr>\n",
       "    <tr>\n",
       "      <th>30</th>\n",
       "      <td>24</td>\n",
       "      <td>IsEducation</td>\n",
       "    </tr>\n",
       "    <tr>\n",
       "      <th>50</th>\n",
       "      <td>23</td>\n",
       "      <td>creativeNameCotainsSecurity</td>\n",
       "    </tr>\n",
       "    <tr>\n",
       "      <th>33</th>\n",
       "      <td>22</td>\n",
       "      <td>NumberofExternalDisplays</td>\n",
       "    </tr>\n",
       "    <tr>\n",
       "      <th>18</th>\n",
       "      <td>18</td>\n",
       "      <td>NumberofInternalDisplays</td>\n",
       "    </tr>\n",
       "    <tr>\n",
       "      <th>69</th>\n",
       "      <td>17</td>\n",
       "      <td>creativeNameCotainsWeek7</td>\n",
       "    </tr>\n",
       "    <tr>\n",
       "      <th>78</th>\n",
       "      <td>17</td>\n",
       "      <td>creativeNameCotainsSkype</td>\n",
       "    </tr>\n",
       "    <tr>\n",
       "      <th>8</th>\n",
       "      <td>16</td>\n",
       "      <td>InternalPrimaryDisplayLogicalDPIX</td>\n",
       "    </tr>\n",
       "    <tr>\n",
       "      <th>65</th>\n",
       "      <td>15</td>\n",
       "      <td>HasFrontFacingCamera</td>\n",
       "    </tr>\n",
       "    <tr>\n",
       "      <th>81</th>\n",
       "      <td>13</td>\n",
       "      <td>IsPenCapable</td>\n",
       "    </tr>\n",
       "    <tr>\n",
       "      <th>2</th>\n",
       "      <td>13</td>\n",
       "      <td>Time_StudentAndLearning</td>\n",
       "    </tr>\n",
       "    <tr>\n",
       "      <th>59</th>\n",
       "      <td>12</td>\n",
       "      <td>IsVirtualDevice</td>\n",
       "    </tr>\n",
       "  </tbody>\n",
       "</table>\n",
       "<p>85 rows × 2 columns</p>\n",
       "</div>"
      ],
      "text/plain": [
       "    importance                                     feature\n",
       "88         883                         ISOCountryShortName\n",
       "5          728                     LifeTimeConversionCount\n",
       "72         718                     LifeTimeImpressionCount\n",
       "52         667                         UniqueUserDeviceKey\n",
       "38         614                                  CampaignId\n",
       "68         585                        CampaignIdValueCount\n",
       "64         534               UniqueUserDeviceKeyValueCount\n",
       "93         492                              DeviceTimezone\n",
       "70         489                           OSOOBEDateTimeDay\n",
       "26         487                         ProcessorClockSpeed\n",
       "1          448                         FirstUpdatedDateDay\n",
       "42         433          Time_windows_immersivecontrolpanel\n",
       "39         398                                creativeName\n",
       "74         383                        FirstUpdatedDateHour\n",
       "77         371                         OSOOBEDateTimeMonth\n",
       "10         368                          OSOOBEDateTimeHour\n",
       "76         347  InternalPrimaryDiagonalDisplaySizeInInches\n",
       "87         340                         BubbleShownTimeHour\n",
       "12         327                             DisplayLanguage\n",
       "58         327                             Time_ModernApps\n",
       "25         321                          BubbleShownTimeDay\n",
       "91         289                             Time_chrome_exe\n",
       "92         287                                  Time_Media\n",
       "89         280                            Time_msascui_exe\n",
       "54         272                       FirstUpdatedDateMonth\n",
       "46         271              Time_microsoft_windows_cortana\n",
       "84         265                        Time_lockapphost_exe\n",
       "43         265                   Time_PersonalProductivity\n",
       "13         264                    TotalEngagementTimeInSec\n",
       "0          251                                GamerSegment\n",
       "..         ...                                         ...\n",
       "48         118  InternalPrimaryDisplayResolutionHorizontal\n",
       "20         113                       GamerPCClassification\n",
       "6          107                           Time_Games_Casual\n",
       "32          92                  creativeNameCotainsBattery\n",
       "28          90                          OSOOBEDateTimeYear\n",
       "14          88                       creativeNameCotainsSL\n",
       "61          88                 FrontFacingCameraResolution\n",
       "17          83                                 Time_Social\n",
       "47          74                               Time_DevTools\n",
       "73          74                              ProcessorCores\n",
       "56          69                                 AppCatCntNs\n",
       "27          57                      ProcessorPhysicalCores\n",
       "60          56                   creativeNameCotainsSwitch\n",
       "41          52                    creativeNameCotainsSurge\n",
       "82          40                              IsDomainJoined\n",
       "22          38                          Time_Accessibility\n",
       "37          35                              IsTouchEnabled\n",
       "34          30                     creativeNameCotainsMeet\n",
       "85          24                        BubbleShownTimeMonth\n",
       "30          24                                 IsEducation\n",
       "50          23                 creativeNameCotainsSecurity\n",
       "33          22                    NumberofExternalDisplays\n",
       "18          18                    NumberofInternalDisplays\n",
       "69          17                    creativeNameCotainsWeek7\n",
       "78          17                    creativeNameCotainsSkype\n",
       "8           16           InternalPrimaryDisplayLogicalDPIX\n",
       "65          15                        HasFrontFacingCamera\n",
       "81          13                                IsPenCapable\n",
       "2           13                     Time_StudentAndLearning\n",
       "59          12                             IsVirtualDevice\n",
       "\n",
       "[85 rows x 2 columns]"
      ]
     },
     "execution_count": 80,
     "metadata": {},
     "output_type": "execute_result"
    }
   ],
   "source": [
    "#feature_list = X_val[features].columns.values\n",
    "feature_list = X_val[features].columns.values\n",
    "df_fi = pd.DataFrame(bst.feature_importance(), columns=['importance'])\n",
    "df_fi['feature'] = feature_list\n",
    "df_fi = df_fi.sort_values('importance', ascending = 0)\n",
    "df_fi[df_fi.importance >= 10]"
   ]
  },
  {
   "cell_type": "code",
   "execution_count": 25,
   "metadata": {
    "collapsed": false
   },
   "outputs": [
    {
     "name": "stdout",
     "output_type": "stream",
     "text": [
      "1\n"
     ]
    }
   ],
   "source": [
    "zeroImportance = df_fi[df_fi.importance == 0]['feature'].values\n",
    "print(len(zeroImportance))"
   ]
  },
  {
   "cell_type": "code",
   "execution_count": 29,
   "metadata": {
    "collapsed": true
   },
   "outputs": [],
   "source": [
    "bst = lgb.Booster(model_file=\"model.txt\") "
   ]
  },
  {
   "cell_type": "code",
   "execution_count": 91,
   "metadata": {
    "collapsed": false
   },
   "outputs": [
    {
     "data": {
      "text/plain": [
       "<lightgbm.basic.Booster at 0x2603eb4eb00>"
      ]
     },
     "execution_count": 91,
     "metadata": {},
     "output_type": "execute_result"
    }
   ],
   "source": [
    "bst"
   ]
  },
  {
   "cell_type": "code",
   "execution_count": 81,
   "metadata": {
    "collapsed": false
   },
   "outputs": [
    {
     "name": "stdout",
     "output_type": "stream",
     "text": [
      "# predict test data...\n",
      "2017-04-07 06:10:56.475872\n",
      "# predict test data: cpu 5.86, time 5.86\n",
      "\n"
     ]
    }
   ],
   "source": [
    "with Timer('# predict test data'):\n",
    "    preds = bst.predict(test[features], num_iteration=bst.best_iteration)"
   ]
  },
  {
   "cell_type": "code",
   "execution_count": 82,
   "metadata": {
    "collapsed": false
   },
   "outputs": [
    {
     "name": "stdout",
     "output_type": "stream",
     "text": [
      "0.0634634634635\n"
     ]
    }
   ],
   "source": [
    "#print(bestEpsilon)\n",
    "print(val_best_threshold)"
   ]
  },
  {
   "cell_type": "code",
   "execution_count": 83,
   "metadata": {
    "collapsed": false
   },
   "outputs": [
    {
     "name": "stdout",
     "output_type": "stream",
     "text": [
      "Click mean: 0.0259797881525\n",
      "Submission file...\n"
     ]
    },
    {
     "data": {
      "text/html": [
       "<div>\n",
       "<table border=\"1\" class=\"dataframe\">\n",
       "  <thead>\n",
       "    <tr style=\"text-align: right;\">\n",
       "      <th></th>\n",
       "      <th>RowNumber</th>\n",
       "      <th>HasClicked</th>\n",
       "    </tr>\n",
       "  </thead>\n",
       "  <tbody>\n",
       "    <tr>\n",
       "      <th>0</th>\n",
       "      <td>1</td>\n",
       "      <td>False</td>\n",
       "    </tr>\n",
       "    <tr>\n",
       "      <th>1</th>\n",
       "      <td>2</td>\n",
       "      <td>False</td>\n",
       "    </tr>\n",
       "    <tr>\n",
       "      <th>2</th>\n",
       "      <td>3</td>\n",
       "      <td>False</td>\n",
       "    </tr>\n",
       "    <tr>\n",
       "      <th>3</th>\n",
       "      <td>4</td>\n",
       "      <td>False</td>\n",
       "    </tr>\n",
       "    <tr>\n",
       "      <th>4</th>\n",
       "      <td>5</td>\n",
       "      <td>False</td>\n",
       "    </tr>\n",
       "  </tbody>\n",
       "</table>\n",
       "</div>"
      ],
      "text/plain": [
       "   RowNumber HasClicked\n",
       "0          1      False\n",
       "1          2      False\n",
       "2          3      False\n",
       "3          4      False\n",
       "4          5      False"
      ]
     },
     "execution_count": 83,
     "metadata": {},
     "output_type": "execute_result"
    }
   ],
   "source": [
    "test_id = test.RowNumber.values\n",
    "submission = pd.DataFrame({'RowNumber': test_id})\n",
    "submission['HasClicked'] = preds > val_best_threshold\n",
    "print(\"Click mean:\", submission.HasClicked.mean())\n",
    "print(\"Submission file...\")\n",
    "submission.to_csv(\"W10_Coin_LightGBM_FinalV2_lr0.05_0403.csv\", index = False)\n",
    "submission.head()"
   ]
  },
  {
   "cell_type": "code",
   "execution_count": 96,
   "metadata": {
    "collapsed": false
   },
   "outputs": [
    {
     "name": "stdout",
     "output_type": "stream",
     "text": [
      "Index(['RowNumber', 'BubbleShownTime', 'CampaignId', 'creativeName',\n",
      "       'UniqueUserDeviceKey', 'LifeTimeImpressionCount',\n",
      "       'LifeTimeConversionCount', 'RecentMonthConversionCount',\n",
      "       'IsVirtualDevice', 'ISOCountryShortName',\n",
      "       ...\n",
      "       'Time_Social', 'Days_Social', 'Time_StudentAndLearning',\n",
      "       'Days_StudentAndLearning', 'Time_ModernApps', 'Days_ModernApps',\n",
      "       'Time_Games_Core', 'Days_Games_Core', 'Time_Games_Casual',\n",
      "       'Days_Games_Casual'],\n",
      "      dtype='object', length=1084)\n",
      "Index(['RowNumber', 'BubbleShownTime', 'CampaignId', 'creativeName',\n",
      "       'UniqueUserDeviceKey', 'LifeTimeImpressionCount',\n",
      "       'LifeTimeConversionCount', 'RecentMonthConversionCount',\n",
      "       'IsVirtualDevice', 'ISOCountryShortName',\n",
      "       ...\n",
      "       'Time_Social', 'Days_Social', 'Time_StudentAndLearning',\n",
      "       'Days_StudentAndLearning', 'Time_ModernApps', 'Days_ModernApps',\n",
      "       'Time_Games_Core', 'Days_Games_Core', 'Time_Games_Casual',\n",
      "       'Days_Games_Casual'],\n",
      "      dtype='object', length=1084)\n",
      "[]\n"
     ]
    }
   ],
   "source": [
    "print(test_header)\n",
    "print(test_header2)\n",
    "print(list(set(test_header) - set(test_header2)))"
   ]
  },
  {
   "cell_type": "code",
   "execution_count": 18,
   "metadata": {
    "collapsed": false
   },
   "outputs": [
    {
     "data": {
      "text/plain": [
       "457"
      ]
     },
     "execution_count": 18,
     "metadata": {},
     "output_type": "execute_result"
    }
   ],
   "source": [
    "bst.best_iteration"
   ]
  },
  {
   "cell_type": "code",
   "execution_count": 97,
   "metadata": {
    "collapsed": false
   },
   "outputs": [
    {
     "name": "stderr",
     "output_type": "stream",
     "text": [
      "C:\\Users\\hyunor\\AppData\\Local\\Continuum\\Anaconda3\\lib\\site-packages\\IPython\\core\\interactiveshell.py:2717: DtypeWarning: Columns (2,17,33) have mixed types. Specify dtype option on import or set low_memory=False.\n",
      "  interactivity=interactivity, compiler=compiler, result=result)\n"
     ]
    },
    {
     "name": "stdout",
     "output_type": "stream",
     "text": [
      "shape: (374137, 71)\n",
      "Add datetime features...\n",
      "BubbleShownTime\n",
      "FirstUpdatedDate\n",
      "OSOOBEDateTime\n",
      "shape: (374137, 83)\n",
      "Missing value count...\n",
      "Gamer segment parsing...\n",
      "Convert categorical columns to numeric...\n",
      "AppCategoryNMinus7\n",
      "DisplayLanguage\n",
      "IsAlwaysOnAlwaysConnectedCapable\n",
      "AppCategoryNMinus2\n",
      "creativeName\n",
      "AppCategoryNMinus5\n",
      "AppCategoryNMinus1\n",
      "AppCategoryNMinus6\n",
      "AppCategoryNMinus4\n",
      "BubbleShownTime\n",
      "GamerSegment\n",
      "ISOCountryShortName\n",
      "AppCategoryNMinus8\n",
      "IsDomainJoined\n",
      "GamerPCClassification\n",
      "DeviceTimezone\n",
      "DefaultInternetBrowser\n",
      "CampaignId\n",
      "AppCategoryNMinus3\n",
      "GamerSegment1\n",
      "creativeNameCotainsSL\n",
      "creativeNameCotainsTS\n",
      "creativeNameCotainsWeek7\n",
      "creativeNameCotainsWeek 7\n",
      "creativeNameCotainsMeet\n",
      "creativeNameCotainsSkype\n",
      "creativeNameCotainsBattery\n",
      "creativeNameCotainsSwitch\n",
      "creativeNameCotainsPerformance\n",
      "creativeNameCotainsSecurity\n",
      "creativeNameCotainsSurge\n",
      "Replace missing values with -1\n",
      "Value count...\n",
      "UniqueUserDeviceKey\n",
      "CampaignId\n",
      "(374137, 100)\n"
     ]
    }
   ],
   "source": [
    "# Read tsv file\n",
    "test2 = pd.read_csv('../input/CoinMlCompetitionSoftlandingEvaluateNoLabel.tsv', sep='\\t', header = None)\n",
    "\n",
    "# Add header because test does not have header\n",
    "with open ('test_header', 'rb') as fp:\n",
    "    test_header2 = pickle.load(fp)\n",
    "\n",
    "test2.columns = test_header2\n",
    "\n",
    "# Get feature list\n",
    "with open ('feature_list', 'rb') as fp:\n",
    "    features2 = pickle.load(fp)\n",
    "\n",
    "# Reduce test size by leaving train features only\n",
    "test2 = test2[list(set(features2) - set(['HasClicked']))]\n",
    "\n",
    "# Feature engineering - should not delete odd date rows\n",
    "#test = feature_engineering(test, isDeleteOddDateRows=False)\n",
    "test2 = feature_engineering(test2)\n",
    "\n",
    "print(test2.shape)"
   ]
  },
  {
   "cell_type": "code",
   "execution_count": 118,
   "metadata": {
    "collapsed": true
   },
   "outputs": [],
   "source": [
    "df_header = pd.DataFrame(test_header)\n",
    "df_header.to_csv('test_header.csv', index = False)\n",
    "\n",
    "#df_header = pd.read_csv('test_header.csv')\n",
    "#header = df_header['0'].values"
   ]
  },
  {
   "cell_type": "code",
   "execution_count": 106,
   "metadata": {
    "collapsed": true
   },
   "outputs": [],
   "source": [
    "df_features = pd.DataFrame(features)\n",
    "df_features.to_csv('final_features.csv', index = False)"
   ]
  },
  {
   "cell_type": "code",
   "execution_count": 108,
   "metadata": {
    "collapsed": false
   },
   "outputs": [],
   "source": [
    "df_feats = pd.read_csv('final_features.csv')\n",
    "features_final2 = df_feats['0'].values"
   ]
  },
  {
   "cell_type": "code",
   "execution_count": 111,
   "metadata": {
    "collapsed": false
   },
   "outputs": [],
   "source": [
    "features_final2 = df_feats['0'].values"
   ]
  },
  {
   "cell_type": "code",
   "execution_count": 98,
   "metadata": {
    "collapsed": true
   },
   "outputs": [],
   "source": [
    "# Read final features\n",
    "with open ('final_feature_list', 'rb') as fp:\n",
    "    features_final2 = pickle.load(fp)"
   ]
  },
  {
   "cell_type": "code",
   "execution_count": 102,
   "metadata": {
    "collapsed": false
   },
   "outputs": [
    {
     "name": "stdout",
     "output_type": "stream",
     "text": [
      "['AppCategoryNMinus7', 'Time_Search', 'Time_Malware', 'IsPenCapable', 'InternalPrimaryDisplayResolutionVertical', 'Time_ModernApps', 'TotalDays', 'Time_msascui_exe', 'OSOOBEDateTimeHour', 'Time_Communications', 'CntNs', 'BubbleShownTimeMonth', 'ProcessorClockSpeed', 'creativeNameCotainsMeet', 'FirstUpdatedDateHour', 'InternalPrimaryDisplayLogicalDPIY', 'DisplayLanguage', 'AppCatCntNs', 'Time_Accessibility', 'IsAlwaysOnAlwaysConnectedCapable', 'Time_Readers', 'AppCategoryNMinus2', 'CampaignIdValueCount', 'creativeNameCotainsSurge', 'HasFrontFacingCamera', 'IsCommercial', 'Time_Games', 'creativeNameCotainsWeek7', 'creativeName', 'BubbleShownTimeDay', 'AppCategoryNMinus5', 'creativeNameCotainsSwitch', 'Time_Browser', 'Time_Social', 'TotalEngagementTimeInSec', 'AppCategoryNMinus1', 'AppCategoryNMinus6', 'BubbleShownTimeYear', 'BubbleShownTimeHour', 'AppCategoryNMinus4', 'FirstUpdatedDateYear', 'FirstUpdatedDateMonth', 'Time_Games_Core', 'OSOOBEDateTimeYear', 'Time_Media', 'creativeNameCotainsSkype', 'PrimaryDiskTotalCapacity', 'FrontFacingCameraResolution', 'OSOOBEDateTimeDay', 'GamerSegment', 'InternalPrimaryDisplayResolutionHorizontal', 'Time_Games_Casual', 'NumberofInternalDisplays', 'InternalBatteryNumberOfCharges', 'creativeNameCotainsBattery', 'LifeTimeImpressionCount', 'ProcessorCores', 'IsTouchEnabled', 'Time_PersonalProductivity', 'InternalPrimaryDisplayLogicalDPIX', 'ProcessorPhysicalCores', 'IsEducation', 'ISOCountryShortName', 'Time_lockapphost_exe', 'InternalPrimaryDiagonalDisplaySizeInInches', 'NumberofExternalDisplays', 'AppCategoryNMinus8', 'Time_StudentAndLearning', 'IsDomainJoined', 'GamerPCClassification', 'Time_windows_immersivecontrolpanel', 'Time_chrome_exe', 'OSOOBEDateTimeMonth', 'Time_DevTools', 'Time_microsoft_windows_cortana', 'GamerSegment1', 'Time_Content', 'UniqueUserDeviceKey', 'LifeTimeConversionCount', 'DeviceTimezone', 'IsMalware', 'creativeNameCotainsTS', 'HasRearFacingCamera', 'creativeNameCotainsWeek 7', 'RecentMonthConversionCount', 'creativeNameCotainsSecurity', 'UniqueUserDeviceKeyValueCount', 'DefaultInternetBrowser', 'creativeNameCotainsPerformance', 'creativeNameCotainsSL', 'TotalPhysicalRAM', 'FirstUpdatedDateDay', 'CampaignId', 'AppCategoryNMinus3', 'IsVirtualDevice']\n",
      "['IsPenCapable', 'Time_Games_Core', 'creativeNameCotainsPerformance', 'AppCategoryNMinus8', 'Time_PersonalProductivity', 'BubbleShownTimeHour', 'Time_StudentAndLearning', 'BubbleShownTimeYear', 'Time_Media', 'AppCategoryNMinus7', 'IsVirtualDevice', 'CampaignIdValueCount', 'CntNs', 'AppCatCntNs', 'TotalDays', 'LifeTimeConversionCount', 'InternalPrimaryDiagonalDisplaySizeInInches', 'Time_Communications', 'Time_Search', 'creativeNameCotainsSwitch', 'NumberofExternalDisplays', 'Time_microsoft_windows_cortana', 'creativeNameCotainsWeek7', 'AppCategoryNMinus6', 'UniqueUserDeviceKeyValueCount', 'IsAlwaysOnAlwaysConnectedCapable', 'TotalPhysicalRAM', 'GamerSegment', 'UniqueUserDeviceKey', 'PrimaryDiskTotalCapacity', 'Time_chrome_exe', 'Time_Accessibility', 'creativeNameCotainsSecurity', 'Time_msascui_exe', 'Time_Social', 'AppCategoryNMinus5', 'Time_Content', 'FirstUpdatedDateDay', 'IsCommercial', 'AppCategoryNMinus3', 'BubbleShownTimeDay', 'OSOOBEDateTimeMonth', 'creativeNameCotainsSkype', 'FirstUpdatedDateMonth', 'ISOCountryShortName', 'creativeNameCotainsMeet', 'ProcessorPhysicalCores', 'AppCategoryNMinus2', 'OSOOBEDateTimeDay', 'AppCategoryNMinus4', 'IsDomainJoined', 'Time_windows_immersivecontrolpanel', 'ProcessorClockSpeed', 'creativeNameCotainsSurge', 'CampaignId', 'InternalPrimaryDisplayResolutionHorizontal', 'DisplayLanguage', 'Time_Malware', 'creativeNameCotainsSL', 'OSOOBEDateTimeHour', 'ProcessorCores', 'Time_Games', 'Time_lockapphost_exe', 'DeviceTimezone', 'IsMalware', 'GamerSegment1', 'BubbleShownTimeMonth', 'Time_Games_Casual', 'IsEducation', 'HasRearFacingCamera', 'creativeNameCotainsWeek 7', 'InternalBatteryNumberOfCharges', 'InternalPrimaryDisplayLogicalDPIX', 'GamerPCClassification', 'OSOOBEDateTimeYear', 'Time_Browser', 'creativeNameCotainsTS', 'Time_DevTools', 'creativeNameCotainsBattery', 'IsTouchEnabled', 'DefaultInternetBrowser', 'FirstUpdatedDateYear', 'InternalPrimaryDisplayResolutionVertical', 'NumberofInternalDisplays', 'InternalPrimaryDisplayLogicalDPIY', 'creativeName', 'FirstUpdatedDateHour', 'TotalEngagementTimeInSec', 'RecentMonthConversionCount', 'LifeTimeImpressionCount', 'Time_Readers', 'HasFrontFacingCamera', 'FrontFacingCameraResolution', 'Time_ModernApps', 'AppCategoryNMinus1']\n",
      "[]\n"
     ]
    }
   ],
   "source": [
    "print(features)\n",
    "print(features_final2)\n",
    "# Read tsv file\n",
    "test2 = pd.read_csv('../input/CoinMlCompetitionSoftlandingEvaluateNoLabel.tsv', sep='\\t', header = None)\n",
    "print(list(set(features)-set(features_final2)))"
   ]
  },
  {
   "cell_type": "code",
   "execution_count": 127,
   "metadata": {
    "collapsed": false
   },
   "outputs": [
    {
     "data": {
      "text/plain": [
       "array(['AppCategoryNMinus7', 'IsPenCapable', 'GamerSegment',\n",
       "       'InternalPrimaryDisplayResolutionHorizontal',\n",
       "       'InternalPrimaryDisplayResolutionVertical', 'Time_Search',\n",
       "       'Time_Malware', 'NumberofInternalDisplays',\n",
       "       'InternalBatteryNumberOfCharges', 'Time_Games_Casual',\n",
       "       'Time_ModernApps', 'TotalDays', 'FrontFacingCameraResolution',\n",
       "       'LifeTimeImpressionCount', 'IsTouchEnabled', 'ProcessorCores',\n",
       "       'OSOOBEDateTime', 'InternalPrimaryDisplayLogicalDPIX',\n",
       "       'IsEducation', 'ProcessorPhysicalCores', 'Time_msascui_exe',\n",
       "       'Time_PersonalProductivity', 'Time_Communications',\n",
       "       'ISOCountryShortName', 'ProcessorClockSpeed',\n",
       "       'NumberofExternalDisplays',\n",
       "       'InternalPrimaryDiagonalDisplaySizeInInches', 'AppCategoryNMinus8',\n",
       "       'InternalPrimaryDisplayLogicalDPIY', 'DisplayLanguage',\n",
       "       'Time_lockapphost_exe', 'Time_Accessibility',\n",
       "       'IsAlwaysOnAlwaysConnectedCapable', 'Time_StudentAndLearning',\n",
       "       'IsDomainJoined', 'Time_Readers', 'GamerPCClassification',\n",
       "       'Time_windows_immersivecontrolpanel', 'Time_chrome_exe',\n",
       "       'Time_DevTools', 'AppCategoryNMinus2',\n",
       "       'Time_microsoft_windows_cortana', 'HasFrontFacingCamera',\n",
       "       'IsCommercial', 'Time_Content', 'Time_Games', 'creativeName',\n",
       "       'UniqueUserDeviceKey', 'AppCategoryNMinus5',\n",
       "       'LifeTimeConversionCount', 'DeviceTimezone', 'IsMalware',\n",
       "       'Time_Browser', 'Time_Social', 'HasRearFacingCamera',\n",
       "       'TotalEngagementTimeInSec', 'RecentMonthConversionCount',\n",
       "       'DefaultInternetBrowser', 'AppCategoryNMinus1',\n",
       "       'AppCategoryNMinus6', 'AppCategoryNMinus4', 'FirstUpdatedDate',\n",
       "       'PrimaryDiskTotalCapacity', 'TotalPhysicalRAM', 'Time_Games_Core',\n",
       "       'HasClicked', 'BubbleShownTime', 'CampaignId', 'RowNumber',\n",
       "       'Time_Media', 'AppCategoryNMinus3', 'IsVirtualDevice'], dtype=object)"
      ]
     },
     "execution_count": 127,
     "metadata": {},
     "output_type": "execute_result"
    }
   ],
   "source": [
    "initial_features"
   ]
  },
  {
   "cell_type": "code",
   "execution_count": 34,
   "metadata": {
    "collapsed": false
   },
   "outputs": [
    {
     "name": "stderr",
     "output_type": "stream",
     "text": [
      "C:\\Users\\ryutek\\Anaconda3\\lib\\site-packages\\IPython\\core\\interactiveshell.py:2717: DtypeWarning: Columns (2,17,33) have mixed types. Specify dtype option on import or set low_memory=False.\n",
      "  interactivity=interactivity, compiler=compiler, result=result)\n"
     ]
    },
    {
     "name": "stdout",
     "output_type": "stream",
     "text": [
      "shape: (374137, 71)\n",
      "Add datetime features...\n",
      "BubbleShownTime\n",
      "FirstUpdatedDate\n",
      "OSOOBEDateTime\n",
      "shape: (374137, 83)\n",
      "Missing value count...\n",
      "Gamer segment parsing...\n",
      "Convert categorical columns to numeric...\n",
      "CampaignId\n",
      "BubbleShownTime\n",
      "AppCategoryNMinus2\n",
      "ISOCountryShortName\n",
      "IsAlwaysOnAlwaysConnectedCapable\n",
      "AppCategoryNMinus4\n",
      "AppCategoryNMinus5\n",
      "GamerPCClassification\n",
      "GamerSegment\n",
      "IsDomainJoined\n",
      "AppCategoryNMinus6\n",
      "DeviceTimezone\n",
      "DisplayLanguage\n",
      "AppCategoryNMinus3\n",
      "AppCategoryNMinus7\n",
      "DefaultInternetBrowser\n",
      "AppCategoryNMinus8\n",
      "AppCategoryNMinus1\n",
      "creativeName\n",
      "GamerSegment1\n",
      "creativeNameCotainsSL\n",
      "creativeNameCotainsTS\n",
      "creativeNameCotainsWeek7\n",
      "creativeNameCotainsWeek 7\n",
      "creativeNameCotainsMeet\n",
      "creativeNameCotainsSkype\n",
      "creativeNameCotainsBattery\n",
      "creativeNameCotainsSwitch\n",
      "creativeNameCotainsPerformance\n",
      "creativeNameCotainsSecurity\n",
      "creativeNameCotainsSurge\n",
      "Replace missing values with -1\n",
      "Value count...\n",
      "UniqueUserDeviceKey\n",
      "CampaignId\n"
     ]
    },
    {
     "ename": "LightGBMError",
     "evalue": "b'Wrong size of feature_names'",
     "output_type": "error",
     "traceback": [
      "\u001b[0;31m---------------------------------------------------------------------------\u001b[0m",
      "\u001b[0;31mLightGBMError\u001b[0m                             Traceback (most recent call last)",
      "\u001b[0;32m<ipython-input-34-16b19be74354>\u001b[0m in \u001b[0;36m<module>\u001b[0;34m()\u001b[0m\n\u001b[1;32m     19\u001b[0m \u001b[1;33m\u001b[0m\u001b[0m\n\u001b[1;32m     20\u001b[0m \u001b[1;31m#random.seed(2007)\u001b[0m\u001b[1;33m\u001b[0m\u001b[1;33m\u001b[0m\u001b[0m\n\u001b[0;32m---> 21\u001b[0;31m \u001b[0mbst2\u001b[0m \u001b[1;33m=\u001b[0m \u001b[0mlgb\u001b[0m\u001b[1;33m.\u001b[0m\u001b[0mBooster\u001b[0m\u001b[1;33m(\u001b[0m\u001b[0mmodel_file\u001b[0m\u001b[1;33m=\u001b[0m\u001b[1;34m\"model.txt\"\u001b[0m\u001b[1;33m)\u001b[0m\u001b[1;33m\u001b[0m\u001b[0m\n\u001b[0m\u001b[1;32m     22\u001b[0m \u001b[1;33m\u001b[0m\u001b[0m\n\u001b[1;32m     23\u001b[0m \u001b[1;31m# Predict test\u001b[0m\u001b[1;33m\u001b[0m\u001b[1;33m\u001b[0m\u001b[0m\n",
      "\u001b[0;32mC:\\Users\\ryutek\\Anaconda3\\lib\\site-packages\\lightgbm-0.1-py3.6.egg\\lightgbm\\basic.py\u001b[0m in \u001b[0;36m__init__\u001b[0;34m(self, params, train_set, model_file, silent)\u001b[0m\n\u001b[1;32m   1221\u001b[0m                 \u001b[0mc_str\u001b[0m\u001b[1;33m(\u001b[0m\u001b[0mmodel_file\u001b[0m\u001b[1;33m)\u001b[0m\u001b[1;33m,\u001b[0m\u001b[1;33m\u001b[0m\u001b[0m\n\u001b[1;32m   1222\u001b[0m                 \u001b[0mctypes\u001b[0m\u001b[1;33m.\u001b[0m\u001b[0mbyref\u001b[0m\u001b[1;33m(\u001b[0m\u001b[0mout_num_iterations\u001b[0m\u001b[1;33m)\u001b[0m\u001b[1;33m,\u001b[0m\u001b[1;33m\u001b[0m\u001b[0m\n\u001b[0;32m-> 1223\u001b[0;31m                 ctypes.byref(self.handle)))\n\u001b[0m\u001b[1;32m   1224\u001b[0m             \u001b[0mout_num_class\u001b[0m \u001b[1;33m=\u001b[0m \u001b[0mctypes\u001b[0m\u001b[1;33m.\u001b[0m\u001b[0mc_int\u001b[0m\u001b[1;33m(\u001b[0m\u001b[1;36m0\u001b[0m\u001b[1;33m)\u001b[0m\u001b[1;33m\u001b[0m\u001b[0m\n\u001b[1;32m   1225\u001b[0m             _safe_call(_LIB.LGBM_BoosterGetNumClasses(\n",
      "\u001b[0;32mC:\\Users\\ryutek\\Anaconda3\\lib\\site-packages\\lightgbm-0.1-py3.6.egg\\lightgbm\\basic.py\u001b[0m in \u001b[0;36m_safe_call\u001b[0;34m(ret)\u001b[0m\n\u001b[1;32m     45\u001b[0m     \"\"\"\n\u001b[1;32m     46\u001b[0m     \u001b[1;32mif\u001b[0m \u001b[0mret\u001b[0m \u001b[1;33m!=\u001b[0m \u001b[1;36m0\u001b[0m\u001b[1;33m:\u001b[0m\u001b[1;33m\u001b[0m\u001b[0m\n\u001b[0;32m---> 47\u001b[0;31m         \u001b[1;32mraise\u001b[0m \u001b[0mLightGBMError\u001b[0m\u001b[1;33m(\u001b[0m\u001b[0m_LIB\u001b[0m\u001b[1;33m.\u001b[0m\u001b[0mLGBM_GetLastError\u001b[0m\u001b[1;33m(\u001b[0m\u001b[1;33m)\u001b[0m\u001b[1;33m)\u001b[0m\u001b[1;33m\u001b[0m\u001b[0m\n\u001b[0m\u001b[1;32m     48\u001b[0m \u001b[1;33m\u001b[0m\u001b[0m\n\u001b[1;32m     49\u001b[0m \u001b[1;33m\u001b[0m\u001b[0m\n",
      "\u001b[0;31mLightGBMError\u001b[0m: b'Wrong size of feature_names'"
     ]
    }
   ],
   "source": [
    "# Read tsv file\n",
    "test2 = pd.read_csv('CoinMlCompetitionSoftlandingEvaluateNoLabel.tsv', sep='\\t', header = None)\n",
    "\n",
    "# Add header because test does not header\n",
    "df_header = pd.read_csv('test_header.csv')\n",
    "test_header2 = df_header['0'].values\n",
    "\n",
    "test2.columns = test_header2\n",
    "\n",
    "# Reduce test size by leaving train features only\n",
    "df_initial_features = pd.read_csv('initial_features.csv')\n",
    "initial_features2 = df_initial_features['0'].values\n",
    "\n",
    "test2 = test2[list(set(initial_features2) - set(['HasClicked']))]\n",
    "\n",
    "# Feature engineering - should not delete odd date rows\n",
    "#test = feature_engineering(test, isDeleteOddDateRows=False)\n",
    "test2 = feature_engineering(test2)\n",
    "\n",
    "#random.seed(2007)\n",
    "bst2 = lgb.Booster(model_file=\"model.txt\") \n",
    "\n",
    "# Predict test\n",
    "df_final_features = pd.read_csv('final_features.csv')\n",
    "final_features2 = df_final_features['0'].values\n",
    "\n",
    "preds = bst2.predict(test2[final_features2], num_iteration=457)\n",
    "\n",
    "# Best threshold from train\n",
    "#val_best_threshold = 0.072\n",
    "val_best_threshold = 0.075\n",
    "\n",
    "# Create submissin file\n",
    "test_id = test2.RowNumber.values\n",
    "submission = pd.DataFrame({'RowNumber': test_id})\n",
    "submission['HasClicked'] = preds > val_best_threshold\n",
    "print(\"Click mean:\", submission.HasClicked.mean())\n",
    "print(\"Submission file...\")\n",
    "submission.to_csv(\"W10_Coin_test_prediction_0403.csv\", index = False)\n",
    "submission.head()"
   ]
  },
  {
   "cell_type": "code",
   "execution_count": 120,
   "metadata": {
    "collapsed": false
   },
   "outputs": [
    {
     "ename": "KeyError",
     "evalue": "\"['HasClicked'] not in index\"",
     "output_type": "error",
     "traceback": [
      "\u001b[0;31m---------------------------------------------------------------------------\u001b[0m",
      "\u001b[0;31mKeyError\u001b[0m                                  Traceback (most recent call last)",
      "\u001b[0;32m<ipython-input-120-cde729c4b042>\u001b[0m in \u001b[0;36m<module>\u001b[0;34m()\u001b[0m\n\u001b[1;32m      4\u001b[0m \u001b[1;33m\u001b[0m\u001b[0m\n\u001b[1;32m      5\u001b[0m \u001b[1;31m# Predict test\u001b[0m\u001b[1;33m\u001b[0m\u001b[1;33m\u001b[0m\u001b[0m\n\u001b[0;32m----> 6\u001b[0;31m \u001b[0mpreds\u001b[0m \u001b[1;33m=\u001b[0m \u001b[0mbst3\u001b[0m\u001b[1;33m.\u001b[0m\u001b[0mpredict\u001b[0m\u001b[1;33m(\u001b[0m\u001b[0mtest2\u001b[0m\u001b[1;33m[\u001b[0m\u001b[0mfeatures\u001b[0m\u001b[1;33m]\u001b[0m\u001b[1;33m,\u001b[0m \u001b[0mnum_iteration\u001b[0m\u001b[1;33m=\u001b[0m\u001b[0mbst\u001b[0m\u001b[1;33m.\u001b[0m\u001b[0mbest_iteration\u001b[0m\u001b[1;33m)\u001b[0m\u001b[1;33m\u001b[0m\u001b[0m\n\u001b[0m\u001b[1;32m      7\u001b[0m \u001b[1;33m\u001b[0m\u001b[0m\n\u001b[1;32m      8\u001b[0m \u001b[1;31m# Best threshold from train\u001b[0m\u001b[1;33m\u001b[0m\u001b[1;33m\u001b[0m\u001b[0m\n",
      "\u001b[0;32mC:\\Users\\hyunor\\AppData\\Local\\Continuum\\Anaconda3\\lib\\site-packages\\pandas\\core\\frame.py\u001b[0m in \u001b[0;36m__getitem__\u001b[0;34m(self, key)\u001b[0m\n\u001b[1;32m   2051\u001b[0m         \u001b[1;32mif\u001b[0m \u001b[0misinstance\u001b[0m\u001b[1;33m(\u001b[0m\u001b[0mkey\u001b[0m\u001b[1;33m,\u001b[0m \u001b[1;33m(\u001b[0m\u001b[0mSeries\u001b[0m\u001b[1;33m,\u001b[0m \u001b[0mnp\u001b[0m\u001b[1;33m.\u001b[0m\u001b[0mndarray\u001b[0m\u001b[1;33m,\u001b[0m \u001b[0mIndex\u001b[0m\u001b[1;33m,\u001b[0m \u001b[0mlist\u001b[0m\u001b[1;33m)\u001b[0m\u001b[1;33m)\u001b[0m\u001b[1;33m:\u001b[0m\u001b[1;33m\u001b[0m\u001b[0m\n\u001b[1;32m   2052\u001b[0m             \u001b[1;31m# either boolean or fancy integer index\u001b[0m\u001b[1;33m\u001b[0m\u001b[1;33m\u001b[0m\u001b[0m\n\u001b[0;32m-> 2053\u001b[0;31m             \u001b[1;32mreturn\u001b[0m \u001b[0mself\u001b[0m\u001b[1;33m.\u001b[0m\u001b[0m_getitem_array\u001b[0m\u001b[1;33m(\u001b[0m\u001b[0mkey\u001b[0m\u001b[1;33m)\u001b[0m\u001b[1;33m\u001b[0m\u001b[0m\n\u001b[0m\u001b[1;32m   2054\u001b[0m         \u001b[1;32melif\u001b[0m \u001b[0misinstance\u001b[0m\u001b[1;33m(\u001b[0m\u001b[0mkey\u001b[0m\u001b[1;33m,\u001b[0m \u001b[0mDataFrame\u001b[0m\u001b[1;33m)\u001b[0m\u001b[1;33m:\u001b[0m\u001b[1;33m\u001b[0m\u001b[0m\n\u001b[1;32m   2055\u001b[0m             \u001b[1;32mreturn\u001b[0m \u001b[0mself\u001b[0m\u001b[1;33m.\u001b[0m\u001b[0m_getitem_frame\u001b[0m\u001b[1;33m(\u001b[0m\u001b[0mkey\u001b[0m\u001b[1;33m)\u001b[0m\u001b[1;33m\u001b[0m\u001b[0m\n",
      "\u001b[0;32mC:\\Users\\hyunor\\AppData\\Local\\Continuum\\Anaconda3\\lib\\site-packages\\pandas\\core\\frame.py\u001b[0m in \u001b[0;36m_getitem_array\u001b[0;34m(self, key)\u001b[0m\n\u001b[1;32m   2095\u001b[0m             \u001b[1;32mreturn\u001b[0m \u001b[0mself\u001b[0m\u001b[1;33m.\u001b[0m\u001b[0mtake\u001b[0m\u001b[1;33m(\u001b[0m\u001b[0mindexer\u001b[0m\u001b[1;33m,\u001b[0m \u001b[0maxis\u001b[0m\u001b[1;33m=\u001b[0m\u001b[1;36m0\u001b[0m\u001b[1;33m,\u001b[0m \u001b[0mconvert\u001b[0m\u001b[1;33m=\u001b[0m\u001b[1;32mFalse\u001b[0m\u001b[1;33m)\u001b[0m\u001b[1;33m\u001b[0m\u001b[0m\n\u001b[1;32m   2096\u001b[0m         \u001b[1;32melse\u001b[0m\u001b[1;33m:\u001b[0m\u001b[1;33m\u001b[0m\u001b[0m\n\u001b[0;32m-> 2097\u001b[0;31m             \u001b[0mindexer\u001b[0m \u001b[1;33m=\u001b[0m \u001b[0mself\u001b[0m\u001b[1;33m.\u001b[0m\u001b[0mix\u001b[0m\u001b[1;33m.\u001b[0m\u001b[0m_convert_to_indexer\u001b[0m\u001b[1;33m(\u001b[0m\u001b[0mkey\u001b[0m\u001b[1;33m,\u001b[0m \u001b[0maxis\u001b[0m\u001b[1;33m=\u001b[0m\u001b[1;36m1\u001b[0m\u001b[1;33m)\u001b[0m\u001b[1;33m\u001b[0m\u001b[0m\n\u001b[0m\u001b[1;32m   2098\u001b[0m             \u001b[1;32mreturn\u001b[0m \u001b[0mself\u001b[0m\u001b[1;33m.\u001b[0m\u001b[0mtake\u001b[0m\u001b[1;33m(\u001b[0m\u001b[0mindexer\u001b[0m\u001b[1;33m,\u001b[0m \u001b[0maxis\u001b[0m\u001b[1;33m=\u001b[0m\u001b[1;36m1\u001b[0m\u001b[1;33m,\u001b[0m \u001b[0mconvert\u001b[0m\u001b[1;33m=\u001b[0m\u001b[1;32mTrue\u001b[0m\u001b[1;33m)\u001b[0m\u001b[1;33m\u001b[0m\u001b[0m\n\u001b[1;32m   2099\u001b[0m \u001b[1;33m\u001b[0m\u001b[0m\n",
      "\u001b[0;32mC:\\Users\\hyunor\\AppData\\Local\\Continuum\\Anaconda3\\lib\\site-packages\\pandas\\core\\indexing.py\u001b[0m in \u001b[0;36m_convert_to_indexer\u001b[0;34m(self, obj, axis, is_setter)\u001b[0m\n\u001b[1;32m   1228\u001b[0m                 \u001b[0mmask\u001b[0m \u001b[1;33m=\u001b[0m \u001b[0mcheck\u001b[0m \u001b[1;33m==\u001b[0m \u001b[1;33m-\u001b[0m\u001b[1;36m1\u001b[0m\u001b[1;33m\u001b[0m\u001b[0m\n\u001b[1;32m   1229\u001b[0m                 \u001b[1;32mif\u001b[0m \u001b[0mmask\u001b[0m\u001b[1;33m.\u001b[0m\u001b[0many\u001b[0m\u001b[1;33m(\u001b[0m\u001b[1;33m)\u001b[0m\u001b[1;33m:\u001b[0m\u001b[1;33m\u001b[0m\u001b[0m\n\u001b[0;32m-> 1230\u001b[0;31m                     \u001b[1;32mraise\u001b[0m \u001b[0mKeyError\u001b[0m\u001b[1;33m(\u001b[0m\u001b[1;34m'%s not in index'\u001b[0m \u001b[1;33m%\u001b[0m \u001b[0mobjarr\u001b[0m\u001b[1;33m[\u001b[0m\u001b[0mmask\u001b[0m\u001b[1;33m]\u001b[0m\u001b[1;33m)\u001b[0m\u001b[1;33m\u001b[0m\u001b[0m\n\u001b[0m\u001b[1;32m   1231\u001b[0m \u001b[1;33m\u001b[0m\u001b[0m\n\u001b[1;32m   1232\u001b[0m                 \u001b[1;32mreturn\u001b[0m \u001b[0m_values_from_object\u001b[0m\u001b[1;33m(\u001b[0m\u001b[0mindexer\u001b[0m\u001b[1;33m)\u001b[0m\u001b[1;33m\u001b[0m\u001b[0m\n",
      "\u001b[0;31mKeyError\u001b[0m: \"['HasClicked'] not in index\""
     ]
    }
   ],
   "source": [
    "# Read trained model\n",
    "#random.seed(2007)\n",
    "bst3 = lgb.Booster(model_file=\"model.txt\") \n",
    "\n",
    "# Predict test\n",
    "preds = bst3.predict(test2[features], num_iteration=bst.best_iteration)\n",
    "\n",
    "# Best threshold from train\n",
    "#val_best_threshold = 0.072\n",
    "val_best_threshold = 0.075\n",
    "\n",
    "# Create submissin file\n",
    "test_id = test2.RowNumber.values\n",
    "submission = pd.DataFrame({'RowNumber': test_id})\n",
    "submission['HasClicked'] = preds > val_best_threshold\n",
    "print(\"Click mean:\", submission.HasClicked.mean())\n",
    "print(\"Submission file...\")\n",
    "submission.to_csv(\"W10_Coin_test_prediction_0403.csv\", index = False)\n",
    "print(submission.head())\n",
    "print(preds)"
   ]
  },
  {
   "cell_type": "code",
   "execution_count": null,
   "metadata": {
    "collapsed": true
   },
   "outputs": [],
   "source": [
    "# load model with pickle to predict\n",
    "with open('model.pkl', 'rb') as fin:\n",
    "    pkl_bst = pickle.load(fin)\n",
    "    \n",
    "# Predict test\n",
    "preds = pkl_bst.predict(test[features], num_iteration=bst.best_iteration)\n",
    "\n",
    "# Best threshold from train\n",
    "#val_best_threshold = 0.072\n",
    "val_best_threshold = 0.075\n",
    "\n",
    "# Create submissin file\n",
    "test_id = test.RowNumber.values\n",
    "submission = pd.DataFrame({'RowNumber': test_id})\n",
    "submission['HasClicked'] = preds > val_best_threshold\n",
    "print(\"Click mean:\", submission.HasClicked.mean())\n",
    "print(\"Submission file...\")\n",
    "submission.to_csv(\"W10_Coin_test_prediction_0403.csv\", index = False)\n",
    "submission.head()"
   ]
  },
  {
   "cell_type": "code",
   "execution_count": null,
   "metadata": {
    "collapsed": true
   },
   "outputs": [],
   "source": []
  },
  {
   "cell_type": "code",
   "execution_count": 48,
   "metadata": {
    "collapsed": false
   },
   "outputs": [
    {
     "data": {
      "text/plain": [
       "array([ 0.12908386,  0.0765627 ,  0.10802078, ...,  0.10601138,\n",
       "        0.10591388,  0.09853806], dtype=float32)"
      ]
     },
     "execution_count": 48,
     "metadata": {},
     "output_type": "execute_result"
    }
   ],
   "source": [
    "preds"
   ]
  },
  {
   "cell_type": "code",
   "execution_count": 23,
   "metadata": {
    "collapsed": false
   },
   "outputs": [
    {
     "data": {
      "text/plain": [
       "['IsPenCapable',\n",
       " 'Time_Games_Core',\n",
       " 'creativeNameCotainsPerformance',\n",
       " 'AppCategoryNMinus8',\n",
       " 'Time_PersonalProductivity',\n",
       " 'BubbleShownTimeHour',\n",
       " 'Time_StudentAndLearning',\n",
       " 'BubbleShownTimeYear',\n",
       " 'Time_Media',\n",
       " 'AppCategoryNMinus7',\n",
       " 'IsVirtualDevice',\n",
       " 'CampaignIdValueCount',\n",
       " 'CntNs',\n",
       " 'AppCatCntNs',\n",
       " 'TotalDays',\n",
       " 'LifeTimeConversionCount',\n",
       " 'InternalPrimaryDiagonalDisplaySizeInInches',\n",
       " 'Time_Communications',\n",
       " 'Time_Search',\n",
       " 'creativeNameCotainsSwitch',\n",
       " 'NumberofExternalDisplays',\n",
       " 'Time_microsoft_windows_cortana',\n",
       " 'creativeNameCotainsWeek7',\n",
       " 'AppCategoryNMinus6',\n",
       " 'UniqueUserDeviceKeyValueCount',\n",
       " 'IsAlwaysOnAlwaysConnectedCapable',\n",
       " 'TotalPhysicalRAM',\n",
       " 'GamerSegment',\n",
       " 'UniqueUserDeviceKey',\n",
       " 'PrimaryDiskTotalCapacity',\n",
       " 'Time_chrome_exe',\n",
       " 'Time_Accessibility',\n",
       " 'creativeNameCotainsSecurity',\n",
       " 'Time_msascui_exe',\n",
       " 'Time_Social',\n",
       " 'AppCategoryNMinus5',\n",
       " 'Time_Content',\n",
       " 'FirstUpdatedDateDay',\n",
       " 'IsCommercial',\n",
       " 'AppCategoryNMinus3',\n",
       " 'BubbleShownTimeDay',\n",
       " 'OSOOBEDateTimeMonth',\n",
       " 'creativeNameCotainsSkype',\n",
       " 'FirstUpdatedDateMonth',\n",
       " 'ISOCountryShortName',\n",
       " 'creativeNameCotainsMeet',\n",
       " 'ProcessorPhysicalCores',\n",
       " 'AppCategoryNMinus2',\n",
       " 'OSOOBEDateTimeDay',\n",
       " 'AppCategoryNMinus4',\n",
       " 'IsDomainJoined',\n",
       " 'Time_windows_immersivecontrolpanel',\n",
       " 'ProcessorClockSpeed',\n",
       " 'creativeNameCotainsSurge',\n",
       " 'CampaignId',\n",
       " 'InternalPrimaryDisplayResolutionHorizontal',\n",
       " 'DisplayLanguage',\n",
       " 'Time_Malware',\n",
       " 'creativeNameCotainsSL',\n",
       " 'OSOOBEDateTimeHour',\n",
       " 'ProcessorCores',\n",
       " 'Time_Games',\n",
       " 'Time_lockapphost_exe',\n",
       " 'DeviceTimezone',\n",
       " 'IsMalware',\n",
       " 'GamerSegment1',\n",
       " 'BubbleShownTimeMonth',\n",
       " 'Time_Games_Casual',\n",
       " 'IsEducation',\n",
       " 'HasRearFacingCamera',\n",
       " 'creativeNameCotainsWeek 7',\n",
       " 'InternalBatteryNumberOfCharges',\n",
       " 'InternalPrimaryDisplayLogicalDPIX',\n",
       " 'GamerPCClassification',\n",
       " 'OSOOBEDateTimeYear',\n",
       " 'Time_Browser',\n",
       " 'creativeNameCotainsTS',\n",
       " 'Time_DevTools',\n",
       " 'creativeNameCotainsBattery',\n",
       " 'IsTouchEnabled',\n",
       " 'DefaultInternetBrowser',\n",
       " 'FirstUpdatedDateYear',\n",
       " 'InternalPrimaryDisplayResolutionVertical',\n",
       " 'NumberofInternalDisplays',\n",
       " 'InternalPrimaryDisplayLogicalDPIY',\n",
       " 'creativeName',\n",
       " 'FirstUpdatedDateHour',\n",
       " 'TotalEngagementTimeInSec',\n",
       " 'RecentMonthConversionCount',\n",
       " 'LifeTimeImpressionCount',\n",
       " 'Time_Readers',\n",
       " 'HasFrontFacingCamera',\n",
       " 'FrontFacingCameraResolution',\n",
       " 'Time_ModernApps',\n",
       " 'AppCategoryNMinus1']"
      ]
     },
     "execution_count": 23,
     "metadata": {},
     "output_type": "execute_result"
    }
   ],
   "source": [
    "features"
   ]
  },
  {
   "cell_type": "code",
   "execution_count": 38,
   "metadata": {
    "collapsed": false
   },
   "outputs": [
    {
     "data": {
      "text/plain": [
       "-6139562895366302631"
      ]
     },
     "execution_count": 38,
     "metadata": {},
     "output_type": "execute_result"
    }
   ],
   "source": [
    "txt = 'abc f'\n",
    "hash(txt)"
   ]
  },
  {
   "cell_type": "code",
   "execution_count": 39,
   "metadata": {
    "collapsed": false
   },
   "outputs": [
    {
     "data": {
      "text/plain": [
       "-6139562895366302631"
      ]
     },
     "execution_count": 39,
     "metadata": {},
     "output_type": "execute_result"
    }
   ],
   "source": [
    "hash(txt)"
   ]
  },
  {
   "cell_type": "code",
   "execution_count": 40,
   "metadata": {
    "collapsed": false
   },
   "outputs": [
    {
     "data": {
      "text/plain": [
       "-6139562895366302631"
      ]
     },
     "execution_count": 40,
     "metadata": {},
     "output_type": "execute_result"
    }
   ],
   "source": [
    "random.seed(2000)\n",
    "hash(txt)"
   ]
  },
  {
   "cell_type": "code",
   "execution_count": 65,
   "metadata": {
    "collapsed": false
   },
   "outputs": [
    {
     "data": {
      "text/plain": [
       "9655835737071027"
      ]
     },
     "execution_count": 65,
     "metadata": {},
     "output_type": "execute_result"
    }
   ],
   "source": [
    "import hashlib\n",
    "txt = b'abc f'\n",
    "def sha256_hash_as_int(s):\n",
    "    return int(hashlib.sha256(str(s).encode('utf-8')).hexdigest(), 16) % (10 ** 16)\n",
    "sha256_hash_as_int(txt)"
   ]
  },
  {
   "cell_type": "code",
   "execution_count": 53,
   "metadata": {
    "collapsed": false
   },
   "outputs": [
    {
     "ename": "ValueError",
     "evalue": "invalid literal for int() with base 4: b'\\xa9`\\xb4\\xf3\\xeb\\xc1*\\x08\\xe4FrS\\n\\xd9\\x80=\\xa8y\\x17\\x1eb-\\x06\\xd8\\x1a\\xd2\\xab\\xe8M)\\xee\\x83'",
     "output_type": "error",
     "traceback": [
      "\u001b[0;31m---------------------------------------------------------------------------\u001b[0m",
      "\u001b[0;31mValueError\u001b[0m                                Traceback (most recent call last)",
      "\u001b[0;32m<ipython-input-53-d41423e0a2d7>\u001b[0m in \u001b[0;36m<module>\u001b[0;34m()\u001b[0m\n\u001b[1;32m      3\u001b[0m \u001b[1;32mdef\u001b[0m \u001b[0msha256_hash_as_int\u001b[0m\u001b[1;33m(\u001b[0m\u001b[0ms\u001b[0m\u001b[1;33m)\u001b[0m\u001b[1;33m:\u001b[0m\u001b[1;33m\u001b[0m\u001b[0m\n\u001b[1;32m      4\u001b[0m     \u001b[1;32mreturn\u001b[0m \u001b[0mint\u001b[0m\u001b[1;33m(\u001b[0m\u001b[0mhashlib\u001b[0m\u001b[1;33m.\u001b[0m\u001b[0msha256\u001b[0m\u001b[1;33m(\u001b[0m\u001b[0ms\u001b[0m\u001b[1;33m)\u001b[0m\u001b[1;33m.\u001b[0m\u001b[0mdigest\u001b[0m\u001b[1;33m(\u001b[0m\u001b[1;33m)\u001b[0m\u001b[1;33m,\u001b[0m \u001b[1;36m4\u001b[0m\u001b[1;33m)\u001b[0m\u001b[1;33m\u001b[0m\u001b[0m\n\u001b[0;32m----> 5\u001b[0;31m \u001b[0msha256_hash_as_int\u001b[0m\u001b[1;33m(\u001b[0m\u001b[0mtxt\u001b[0m\u001b[1;33m)\u001b[0m\u001b[1;33m\u001b[0m\u001b[0m\n\u001b[0m",
      "\u001b[0;32m<ipython-input-53-d41423e0a2d7>\u001b[0m in \u001b[0;36msha256_hash_as_int\u001b[0;34m(s)\u001b[0m\n\u001b[1;32m      2\u001b[0m \u001b[0mtxt\u001b[0m \u001b[1;33m=\u001b[0m \u001b[1;34mb'abc f'\u001b[0m\u001b[1;33m\u001b[0m\u001b[0m\n\u001b[1;32m      3\u001b[0m \u001b[1;32mdef\u001b[0m \u001b[0msha256_hash_as_int\u001b[0m\u001b[1;33m(\u001b[0m\u001b[0ms\u001b[0m\u001b[1;33m)\u001b[0m\u001b[1;33m:\u001b[0m\u001b[1;33m\u001b[0m\u001b[0m\n\u001b[0;32m----> 4\u001b[0;31m     \u001b[1;32mreturn\u001b[0m \u001b[0mint\u001b[0m\u001b[1;33m(\u001b[0m\u001b[0mhashlib\u001b[0m\u001b[1;33m.\u001b[0m\u001b[0msha256\u001b[0m\u001b[1;33m(\u001b[0m\u001b[0ms\u001b[0m\u001b[1;33m)\u001b[0m\u001b[1;33m.\u001b[0m\u001b[0mdigest\u001b[0m\u001b[1;33m(\u001b[0m\u001b[1;33m)\u001b[0m\u001b[1;33m,\u001b[0m \u001b[1;36m4\u001b[0m\u001b[1;33m)\u001b[0m\u001b[1;33m\u001b[0m\u001b[0m\n\u001b[0m\u001b[1;32m      5\u001b[0m \u001b[0msha256_hash_as_int\u001b[0m\u001b[1;33m(\u001b[0m\u001b[0mtxt\u001b[0m\u001b[1;33m)\u001b[0m\u001b[1;33m\u001b[0m\u001b[0m\n",
      "\u001b[0;31mValueError\u001b[0m: invalid literal for int() with base 4: b'\\xa9`\\xb4\\xf3\\xeb\\xc1*\\x08\\xe4FrS\\n\\xd9\\x80=\\xa8y\\x17\\x1eb-\\x06\\xd8\\x1a\\xd2\\xab\\xe8M)\\xee\\x83'"
     ]
    }
   ],
   "source": [
    "import hashlib\n",
    "txt = b'abc f'\n",
    "def sha256_hash_as_int(s):\n",
    "    return int(hashlib.sha256(s).digest(), 4)\n",
    "sha256_hash_as_int(txt)"
   ]
  },
  {
   "cell_type": "code",
   "execution_count": 62,
   "metadata": {
    "collapsed": false
   },
   "outputs": [
    {
     "data": {
      "text/plain": [
       "2651114539135181"
      ]
     },
     "execution_count": 62,
     "metadata": {},
     "output_type": "execute_result"
    }
   ],
   "source": [
    "int(hashlib.sha1(txt).hexdigest(), 16) % (10 ** 16)"
   ]
  },
  {
   "cell_type": "code",
   "execution_count": 63,
   "metadata": {
    "collapsed": false
   },
   "outputs": [
    {
     "data": {
      "text/plain": [
       "2651114539135181"
      ]
     },
     "execution_count": 63,
     "metadata": {},
     "output_type": "execute_result"
    }
   ],
   "source": [
    "import hashlib\n",
    "txt = b'abc f'\n",
    "int(hashlib.sha1(txt).hexdigest(), 16) % (10 ** 16)"
   ]
  },
  {
   "cell_type": "code",
   "execution_count": null,
   "metadata": {
    "collapsed": true
   },
   "outputs": [],
   "source": []
  }
 ],
 "metadata": {
  "anaconda-cloud": {},
  "kernelspec": {
   "display_name": "Python 3",
   "language": "python",
   "name": "python3"
  },
  "language_info": {
   "codemirror_mode": {
    "name": "ipython",
    "version": 3
   },
   "file_extension": ".py",
   "mimetype": "text/x-python",
   "name": "python",
   "nbconvert_exporter": "python",
   "pygments_lexer": "ipython3",
   "version": "3.6.0"
  }
 },
 "nbformat": 4,
 "nbformat_minor": 1
}
